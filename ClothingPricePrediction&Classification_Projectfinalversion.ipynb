{
 "cells": [
  {
   "cell_type": "code",
   "execution_count": 54,
   "id": "c4b08615",
   "metadata": {},
   "outputs": [],
   "source": [
    "import selenium \n",
    "import pandas as pd\n",
    "from selenium import webdriver\n",
    "import warnings\n",
    "warnings.filterwarnings('ignore')\n",
    "from selenium.webdriver.common.by import By \n",
    "import time \n",
    "from selenium.webdriver.support.ui import WebDriverWait\n",
    "from selenium.common.exceptions import StaleElementReferenceException,NoSuchElementException,ElementNotInteractableException\n",
    "from selenium.webdriver.support import expected_conditions as EC\n",
    "from selenium.webdriver.common.keys import Keys\n",
    "from IPython.display import display, clear_output"
   ]
  },
  {
   "cell_type": "code",
   "execution_count": 55,
   "id": "364f0a74",
   "metadata": {},
   "outputs": [],
   "source": [
    "driver=webdriver.Firefox()"
   ]
  },
  {
   "cell_type": "code",
   "execution_count": 56,
   "id": "6005fbc2",
   "metadata": {},
   "outputs": [],
   "source": [
    "driver.get(\" https://www.adidas.co.in/\")"
   ]
  },
  {
   "cell_type": "code",
   "execution_count": 57,
   "id": "522163d3",
   "metadata": {},
   "outputs": [],
   "source": [
    "search=driver.find_element(By.XPATH,'/html/body/div[1]/div[2]/div[2]/div/header/div[2]/div/div[2]/div/input')\n",
    "time.sleep(5)"
   ]
  },
  {
   "cell_type": "code",
   "execution_count": 58,
   "id": "479c61ea",
   "metadata": {},
   "outputs": [],
   "source": [
    "search.click()"
   ]
  },
  {
   "cell_type": "code",
   "execution_count": 59,
   "id": "7bfab236",
   "metadata": {},
   "outputs": [],
   "source": [
    "search.send_keys('apparel')\n",
    "time.sleep(5)"
   ]
  },
  {
   "cell_type": "code",
   "execution_count": 60,
   "id": "d58d15f1",
   "metadata": {},
   "outputs": [],
   "source": [
    "search.send_keys(Keys.ENTER)"
   ]
  },
  {
   "cell_type": "code",
   "execution_count": 61,
   "id": "26ee776b",
   "metadata": {},
   "outputs": [],
   "source": [
    "try:\n",
    "    \n",
    "    discount_element = WebDriverWait(driver, 10).until(\n",
    "        EC.presence_of_element_located((By.XPATH, '/html/body/div[2]/div/div[1]/div[1]/div/div/div[4]/div/div[2]/div/div/div[1]/div[1]/div/div/div/div[1]/div/div[2]/div[1]/span[1]'))\n",
    "    )\n",
    "    \n",
    "    discount_element.click()\n",
    "\n",
    "except ElementNotInteractableException as e:\n",
    "    print(\"Element is not interactable:\", e)"
   ]
  },
  {
   "cell_type": "code",
   "execution_count": 62,
   "id": "e4e769d9",
   "metadata": {},
   "outputs": [],
   "source": [
    "try:\n",
    "    \n",
    "    zero_discount_element = WebDriverWait(driver, 10).until(\n",
    "        EC.presence_of_element_located((By.XPATH, '/html/body/div[2]/div/div[1]/div[1]/div/div/div[4]/div/div[2]/div/div/div[1]/div[1]/div/div/div/div[1]/div/div[2]/div[2]/div/ul/li[12]/a/div/div/label/input'))\n",
    "    )\n",
    "    \n",
    "    zero_discount_element.click()\n",
    "\n",
    "except ElementNotInteractableException as e:\n",
    "    print(\"Element is not interactable:\", e)"
   ]
  },
  {
   "cell_type": "code",
   "execution_count": 80,
   "id": "0b7eb9df",
   "metadata": {},
   "outputs": [
    {
     "name": "stdout",
     "output_type": "stream",
     "text": [
      "Total URLs scraped: 96\n"
     ]
    }
   ],
   "source": [
    "# from pages 1 to 20 962 samples completed. 21,22 in progress\n",
    "driver.get('https://www.adidas.co.in/search?q=apparel&sale_percentage_en_in=0%25&start=960') \n",
    "apparel_url = []\n",
    "start = 1\n",
    "end = 2\n",
    "\n",
    "for page in range(start, end+1):\n",
    "    # Wait for the product URLs to be present on the page\n",
    "    WebDriverWait(driver, 10).until(EC.presence_of_all_elements_located((By.XPATH, '//a[@class=\"glass-product-card__assets-link\"]')))\n",
    "    \n",
    "    # Find all product URLs on the current page\n",
    "    url_elements = driver.find_elements(By.XPATH, '//a[@class=\"glass-product-card__assets-link\"]')\n",
    "    for element in url_elements:\n",
    "        apparel_url.append(element.get_attribute('href'))\n",
    "\n",
    "    # Click on the \"Next\" button to move to the next page\n",
    "    try:\n",
    "        next_button = WebDriverWait(driver, 10).until(\n",
    "            EC.element_to_be_clickable((By.XPATH, '/html/body/div[2]/div/div[1]/div[1]/div/div/div[4]/div/div[2]/div/div/div[2]/div[2]/div/div/div/div[4]/a/span'))\n",
    "        )\n",
    "        next_button.click()  # Click on the \"Next\" button\n",
    "    except:\n",
    "        print(\"No next page found\")\n",
    "        break  # Break the loop if there is no next page\n",
    "\n",
    "# After scraping, you can print or process the collected URLs\n",
    "print(\"Total URLs scraped:\", len(apparel_url))"
   ]
  },
  {
   "cell_type": "code",
   "execution_count": 81,
   "id": "ea48fb9f",
   "metadata": {},
   "outputs": [
    {
     "data": {
      "text/plain": [
       "['https://www.adidas.co.in/italy-24-home-jersey-kids/IQ0496.html',\n",
       " 'https://www.adidas.co.in/ultimateadidas-print-7-8-leggings/IL7342.html',\n",
       " 'https://www.adidas.co.in/blue-version-challenger-half-zip-sweatshirt/HM2340.html',\n",
       " 'https://www.adidas.co.in/adicolor-outline-trefoil-pants/IR7985.html',\n",
       " 'https://www.adidas.co.in/donovan-mitchell-8-bit-graphics-signature-basketball-graphic-tee/II7792.html',\n",
       " 'https://www.adidas.co.in/dance-all-gender-versatile-woven-cargo-pants/IS0904.html',\n",
       " 'https://www.adidas.co.in/fast-tko-pants/HN8015.html',\n",
       " 'https://www.adidas.co.in/dance-all-gender-bodysuit/IS0895.html',\n",
       " 'https://www.adidas.co.in/nice-embroidered-sweatshirt/IR7595.html',\n",
       " 'https://www.adidas.co.in/adizero-running-singlet/IQ4926.html',\n",
       " 'https://www.adidas.co.in/hoop-york-city-tee-gender-neutral/IT4988.html',\n",
       " 'https://www.adidas.co.in/colourblock-swimsuit/IQ3997.html',\n",
       " 'https://www.adidas.co.in/dailyrun-7-8-leggings/IN4294.html',\n",
       " 'https://www.adidas.co.in/loose-track-suit-pants/IT9838.html',\n",
       " 'https://www.adidas.co.in/kseniaschnaider-knitted-cardigan/IU2510.html',\n",
       " 'https://www.adidas.co.in/tennis-heat.rdy-freelift-pro-tee/IK7111.html',\n",
       " 'https://www.adidas.co.in/germany-tiro-24-competition-training-jersey/IP8245.html',\n",
       " 'https://www.adidas.co.in/y-3-wool-flannel-overshirt/IL2156.html',\n",
       " 'https://www.adidas.co.in/y-3-quilted-pants/IL2056.html',\n",
       " 'https://www.adidas.co.in/y-3-engineered-knit-tights/IQ2149.html',\n",
       " 'https://www.adidas.co.in/adicolor-classics-loose-firebird-track-top/IP0602.html',\n",
       " 'https://www.adidas.co.in/premium-originals-crepe-track-top/IT9875.html',\n",
       " 'https://www.adidas.co.in/adicolor-trefoil-tee/IR7979.html',\n",
       " 'https://www.adidas.co.in/3-bar-logo-swimsuit/IQ3985.html',\n",
       " 'https://www.adidas.co.in/tiro-3-stripes-long-sleeve-tee/IS4574.html',\n",
       " 'https://www.adidas.co.in/hiit-aeroready-crop-training-hoodie/IT7433.html',\n",
       " 'https://www.adidas.co.in/adizero-promo-running-short-leggings/IL1499.html',\n",
       " 'https://www.adidas.co.in/future-icons-3-stripes-dress/IS3237.html',\n",
       " 'https://www.adidas.co.in/essentials-slim-3-stripes-tee/IM2791.html',\n",
       " 'https://www.adidas.co.in/z.n.e.-woven-full-zip-hooded-track-top/IN1843.html',\n",
       " 'https://www.adidas.co.in/embellished-3-stripes-track-top/IS4655.html',\n",
       " 'https://www.adidas.co.in/adidas-cricket-graphics-howzatt-tee/JD8479.html',\n",
       " 'https://www.adidas.co.in/y-3-premium-loose-short-sleeve-tee/IV5555.html',\n",
       " 'https://www.adidas.co.in/adicolor-classics-sst-track-jacket/IL2493.html',\n",
       " 'https://www.adidas.co.in/blue-version-high-shine-skirt/HK7253.html',\n",
       " 'https://www.adidas.co.in/y-3-quilted-vest/IL2071.html',\n",
       " 'https://www.adidas.co.in/all-me-7-8-leggings/IT9153.html',\n",
       " 'https://www.adidas.co.in/shmoofoil-not-eazy-short-sleeve-tee/IU0079.html',\n",
       " 'https://www.adidas.co.in/tennis-aeroready-two-in-one-pro-shorts/IU3204.html',\n",
       " 'https://www.adidas.co.in/solid-swim-jammers/IU1875.html',\n",
       " 'https://www.adidas.co.in/designed-for-training-hiit-workout-heat.rdy-tee/IS3710.html',\n",
       " 'https://www.adidas.co.in/adidas-x-star-wars-z.n.e.-tee/IN7284.html',\n",
       " 'https://www.adidas.co.in/street-neuclassics-full-zip-hoodie/IS2827.html',\n",
       " 'https://www.adidas.co.in/gym-training-2-in-1-shorts/IR8597.html',\n",
       " 'https://www.adidas.co.in/adicolor-trefoil-boxy-tee/IN8436.html',\n",
       " 'https://www.adidas.co.in/tlrdreact-training-high-support-bra/IQ3382.html',\n",
       " 'https://www.adidas.co.in/adicolor-classics-oversized-sst-track-top/II0718.html',\n",
       " 'https://www.adidas.co.in/cloudfoam-w/IU6000.html',\n",
       " 'https://www.adidas.co.in/tiro-3-stripes-long-sleeve-tee/IS4572.html',\n",
       " 'https://www.adidas.co.in/all-szn-graphic-tee/IR5265.html',\n",
       " 'https://www.adidas.co.in/adicolor-classics-firebird-track-pants/IM9478.html',\n",
       " 'https://www.adidas.co.in/designed-for-training-workout-tee/IK9688.html',\n",
       " 'https://www.adidas.co.in/3-stripes-clx-very-short-length-swim-shorts/IS2057.html',\n",
       " 'https://www.adidas.co.in/tennis-airchill-pro-dress/IL7364.html',\n",
       " 'https://www.adidas.co.in/designed-for-training-workout-shorts/IS9004.html',\n",
       " 'https://www.adidas.co.in/designed-for-training-workout-shorts/IK9687.html',\n",
       " 'https://www.adidas.co.in/adidas-select-world-wide-hoops-shorts/IU2436.html',\n",
       " 'https://www.adidas.co.in/adidas-by-stella-mccartney-logo-tank-top/IB6857.html',\n",
       " 'https://www.adidas.co.in/designed-for-training-hiit-workout-heat.rdy-shorts/IN8773.html',\n",
       " 'https://www.adidas.co.in/padded-mid-stripes-swimsuit/HR6480.html',\n",
       " 'https://www.adidas.co.in/essentials-slim-3-stripes-tee/IS1550.html',\n",
       " 'https://www.adidas.co.in/y-3-padded-pants/IP5587.html',\n",
       " 'https://www.adidas.co.in/y-3-nylon-cuffed-pants/IL2034.html',\n",
       " 'https://www.adidas.co.in/adicolor-classics-firebird-track-pants/IM9477.html',\n",
       " 'https://www.adidas.co.in/tiro-track-pants/IS4554.html',\n",
       " 'https://www.adidas.co.in/3-stripes-satin-long-sleeve-tee/IT9835.html',\n",
       " 'https://www.adidas.co.in/premium-essentials-flared-pants/IT9240.html',\n",
       " 'https://www.adidas.co.in/floral-graphic-3-stripes-french-terry-pants/IN7317.html',\n",
       " 'https://www.adidas.co.in/premium-originals-crepe-track-suit-pants/IT9830.html',\n",
       " 'https://www.adidas.co.in/colourblock-swimsuit/IL7280.html',\n",
       " 'https://www.adidas.co.in/running-primeweave-short-leggings/IL5315.html',\n",
       " 'https://www.adidas.co.in/germany-tiro-24-competition-training-pants/IP8240.html',\n",
       " 'https://www.adidas.co.in/sportswear-u-back-swimsuit/IL7254.html',\n",
       " 'https://www.adidas.co.in/fortore-23-jersey/IT5656.html',\n",
       " 'https://www.adidas.co.in/future-icons-3-stripes-loose-woven-pants/IN3308.html',\n",
       " 'https://www.adidas.co.in/powerimpact-training-medium-support-3-stripes-bra/IT6626.html',\n",
       " 'https://www.adidas.co.in/z.n.e.-woven-pants/IS1874.html',\n",
       " 'https://www.adidas.co.in/tockholes-tt/HT5397.html',\n",
       " 'https://www.adidas.co.in/ultimateadidas-allover-print-tee/IN0630.html',\n",
       " 'https://www.adidas.co.in/83-c-track-top/IA2468.html',\n",
       " 'https://www.adidas.co.in/adidas-by-stella-mccartney-truepurpose-training-midlayer-jacket/IB6788.html',\n",
       " 'https://www.adidas.co.in/techfit-3-stripes-training-tee/HD3525.html',\n",
       " 'https://www.adidas.co.in/adizero-running-tee/IK9710.html',\n",
       " 'https://www.adidas.co.in/y-3-wool-flannel-cargo-pants/IP5564.html',\n",
       " 'https://www.adidas.co.in/y-3-cuffed-cargo-pants/IL2063.html',\n",
       " 'https://www.adidas.co.in/y-3-3-stripes-refined-wool-cuffed-pants/IB0387.html',\n",
       " 'https://www.adidas.co.in/all-me-7-8-leggings/IT9151.html',\n",
       " 'https://www.adidas.co.in/adi-performance-polo-shirt/IU4447.html',\n",
       " 'https://www.adidas.co.in/y-3-engineered-knit-tights/HY5878.html',\n",
       " 'https://www.adidas.co.in/adidas-by-stella-mccartney-truepurpose-optime-training-leggings/IB6792.html',\n",
       " 'https://www.adidas.co.in/adizero-running-split-shorts/IK9720.html',\n",
       " 'https://www.adidas.co.in/drive-heather-golf-polo-shirt/IJ0182.html',\n",
       " 'https://www.adidas.co.in/solid-swim-jammers/IA7090.html',\n",
       " 'https://www.adidas.co.in/suddell-track-top/IN6754.html',\n",
       " 'https://www.adidas.co.in/y-3-graphic-short-sleeve-tee/IT7522.html',\n",
       " 'https://www.adidas.co.in/hyperglam-training-crop-long-sleeve-tee/IN6773.html']"
      ]
     },
     "execution_count": 81,
     "metadata": {},
     "output_type": "execute_result"
    }
   ],
   "source": [
    "apparel_url"
   ]
  },
  {
   "cell_type": "code",
   "execution_count": 82,
   "id": "b9fb53ce",
   "metadata": {},
   "outputs": [],
   "source": [
    "Sno=[]\n",
    "Brandname=[]\n",
    "Category=[]\n",
    "Producttype=[]\n",
    "ProductName=[]\n",
    "Productcode=[]\n",
    "Price=[]\n",
    "color1=[]\n",
    "color2=[]\n",
    "color3=[]\n",
    "color4=[]\n",
    "Weartype=[]   \n",
    "Materialtype=[]\n",
    "reviews=[]\n",
    "Size1=[] \n",
    "Size2=[] \n",
    "Size3=[] \n",
    "Size4=[] \n",
    "Countryoforigin=[]\n",
    "returntime=[]   \n",
    "occasion=[]  "
   ]
  },
  {
   "cell_type": "code",
   "execution_count": 83,
   "id": "4961db69",
   "metadata": {},
   "outputs": [
    {
     "name": "stdout",
     "output_type": "stream",
     "text": [
      "Processing complete!\n"
     ]
    }
   ],
   "source": [
    "from selenium.common.exceptions import TimeoutException\n",
    "\n",
    "counter = 962\n",
    "for i in apparel_url:  # iterating each and every URL to fetch full job details\n",
    "    driver.get(i)\n",
    "    time.sleep(5)\n",
    "    try:\n",
    "        price_tags = WebDriverWait(driver, 10).until(EC.visibility_of_element_located((By.XPATH,'/html/body/div[2]/div/div[1]/div[1]/div/div/div[4]/div[2]/div[2]/div[1]/div[2]/div/div/div/div')))\n",
    "        Price.append(price_tags.text) \n",
    "        productname_tags = WebDriverWait(driver, 10).until(EC.visibility_of_element_located((By.XPATH,'/html/body/div[2]/div/div[1]/div[1]/div/div/div[4]/div[2]/div[2]/div[1]/h1')))\n",
    "        ProductName.append(productname_tags.text)\n",
    "        category_tags = WebDriverWait(driver, 10).until(EC.visibility_of_element_located((By.XPATH, '/html/body/div[2]/div/div[1]/div[1]/div/div/div[4]/div[2]/div[2]/div[1]/div[1]/div/span')))\n",
    "        Category.append(category_tags.text)  \n",
    "        occasion_tags = WebDriverWait(driver, 10).until(EC.visibility_of_element_located((By.XPATH, '/html/body/div[2]/div/div[1]/div[1]/div/div/div[4]/div[2]/div[2]/div[1]/div[1]/div/span')))\n",
    "        occasion.append(occasion_tags.text)  \n",
    "        returntime_tags = WebDriverWait(driver, 10).until(EC.visibility_of_element_located((By.XPATH,\"/html/body/div[2]/div/div[1]/div[1]/div/div/div[4]/div[2]/div[2]/section/div[5]/div[4]/div/div[2]/div/a\")))\n",
    "        returntime.append(returntime_tags.text)  \n",
    "\n",
    "    except TimeoutException:\n",
    "        print(\"Timeout occurred while waiting for element to be located.\")\n",
    "        # Handle the timeout gracefully, for example:\n",
    "        Price.append(None)\n",
    "        ProductName.append(None)\n",
    "        Category.append(None)\n",
    "        occasion.append(None)\n",
    "        returntime.append(None)\n",
    "        \n",
    "    except NoSuchElementException:\n",
    "        Price.append(None)\n",
    "        ProductName.append(None)\n",
    "        Category.append(None)\n",
    "        occasion.append(None)\n",
    "        returntime.append(None)\n",
    "    \n",
    "    counter += 1\n",
    "    Sno.append(counter)\n",
    "    Brandname.append('Adidas')\n",
    "    clear_output(wait=True)\n",
    "    display(f\"Processing samples:  {counter}\")\n",
    "\n",
    "clear_output(wait=True)\n",
    "print(\"Processing complete!\")\n",
    "\n"
   ]
  },
  {
   "cell_type": "code",
   "execution_count": 84,
   "id": "07c70a1e",
   "metadata": {},
   "outputs": [
    {
     "name": "stdout",
     "output_type": "stream",
     "text": [
      "96 96 96 96 96 96 96\n"
     ]
    }
   ],
   "source": [
    "print(len(Sno),len(Brandname),len(Category),len(Price),len(ProductName),len(occasion),len(returntime))"
   ]
  },
  {
   "cell_type": "code",
   "execution_count": 70,
   "id": "0b07f6cf",
   "metadata": {},
   "outputs": [
    {
     "name": "stdout",
     "output_type": "stream",
     "text": [
      "96 96 96 96 96 96 96\n"
     ]
    }
   ],
   "source": [
    "# Determine the desired length\n",
    "desired_length = min(len(Sno), len(Brandname))\n",
    "\n",
    "# Truncate lists to the desired length\n",
    "Price = Price[:desired_length]\n",
    "ProductName = ProductName[:desired_length]\n",
    "Category = Category[:desired_length]\n",
    "occasion = occasion[:desired_length]\n",
    "returntime = returntime[:desired_length]\n",
    "\n",
    "# Verify lengths\n",
    "print(len(Sno), len(Brandname), len(Category), len(Price), len(ProductName), len(occasion), len(returntime))\n"
   ]
  },
  {
   "cell_type": "code",
   "execution_count": 85,
   "id": "26c53ae4",
   "metadata": {
    "scrolled": true
   },
   "outputs": [
    {
     "data": {
      "text/html": [
       "<div>\n",
       "<style scoped>\n",
       "    .dataframe tbody tr th:only-of-type {\n",
       "        vertical-align: middle;\n",
       "    }\n",
       "\n",
       "    .dataframe tbody tr th {\n",
       "        vertical-align: top;\n",
       "    }\n",
       "\n",
       "    .dataframe thead th {\n",
       "        text-align: right;\n",
       "    }\n",
       "</style>\n",
       "<table border=\"1\" class=\"dataframe\">\n",
       "  <thead>\n",
       "    <tr style=\"text-align: right;\">\n",
       "      <th></th>\n",
       "      <th>SNo</th>\n",
       "      <th>Brandname</th>\n",
       "      <th>Category</th>\n",
       "      <th>Price</th>\n",
       "      <th>ProductName</th>\n",
       "      <th>occasion</th>\n",
       "      <th>returntime</th>\n",
       "    </tr>\n",
       "  </thead>\n",
       "  <tbody>\n",
       "    <tr>\n",
       "      <th>0</th>\n",
       "      <td>963</td>\n",
       "      <td>Adidas</td>\n",
       "      <td>Boys • Football</td>\n",
       "      <td>₹3 999.00</td>\n",
       "      <td>ITALY 24 HOME JERSEY KIDS</td>\n",
       "      <td>Boys • Football</td>\n",
       "      <td>Secure transactions with hassle free 14 days E...</td>\n",
       "    </tr>\n",
       "    <tr>\n",
       "      <th>1</th>\n",
       "      <td>964</td>\n",
       "      <td>Adidas</td>\n",
       "      <td>Women • Running</td>\n",
       "      <td>₹7 599.00</td>\n",
       "      <td>ULTIMATEADIDAS PRINT 7/8 LEGGINGS</td>\n",
       "      <td>Women • Running</td>\n",
       "      <td>Secure transactions with hassle free 14 days E...</td>\n",
       "    </tr>\n",
       "    <tr>\n",
       "      <th>2</th>\n",
       "      <td>965</td>\n",
       "      <td>Adidas</td>\n",
       "      <td>Men • Originals</td>\n",
       "      <td>₹13 999.00</td>\n",
       "      <td>BLUE VERSION CHALLENGER HALF-ZIP SWEATSHIRT</td>\n",
       "      <td>Men • Originals</td>\n",
       "      <td>Secure transactions with hassle free 14 days E...</td>\n",
       "    </tr>\n",
       "    <tr>\n",
       "      <th>3</th>\n",
       "      <td>966</td>\n",
       "      <td>Adidas</td>\n",
       "      <td>Men • Originals</td>\n",
       "      <td>₹7 599.00</td>\n",
       "      <td>ADICOLOR OUTLINE TREFOIL PANTS</td>\n",
       "      <td>Men • Originals</td>\n",
       "      <td>Secure transactions with hassle free 14 days E...</td>\n",
       "    </tr>\n",
       "    <tr>\n",
       "      <th>4</th>\n",
       "      <td>967</td>\n",
       "      <td>Adidas</td>\n",
       "      <td>Men • Basketball</td>\n",
       "      <td>₹3 599.00</td>\n",
       "      <td>DONOVAN MITCHELL 8-BIT GRAPHICS SIGNATURE BASK...</td>\n",
       "      <td>Men • Basketball</td>\n",
       "      <td>Secure transactions with hassle free 14 days E...</td>\n",
       "    </tr>\n",
       "    <tr>\n",
       "      <th>...</th>\n",
       "      <td>...</td>\n",
       "      <td>...</td>\n",
       "      <td>...</td>\n",
       "      <td>...</td>\n",
       "      <td>...</td>\n",
       "      <td>...</td>\n",
       "      <td>...</td>\n",
       "    </tr>\n",
       "    <tr>\n",
       "      <th>91</th>\n",
       "      <td>1054</td>\n",
       "      <td>Adidas</td>\n",
       "      <td>Men • Golf</td>\n",
       "      <td>₹4 999.00</td>\n",
       "      <td>DRIVE HEATHER GOLF POLO SHIRT</td>\n",
       "      <td>Men • Golf</td>\n",
       "      <td>Secure transactions with hassle free 14 days E...</td>\n",
       "    </tr>\n",
       "    <tr>\n",
       "      <th>92</th>\n",
       "      <td>1055</td>\n",
       "      <td>Adidas</td>\n",
       "      <td>Men • Swim</td>\n",
       "      <td>₹2 799.00</td>\n",
       "      <td>SOLID SWIM JAMMERS</td>\n",
       "      <td>Men • Swim</td>\n",
       "      <td>Secure transactions with hassle free 14 days E...</td>\n",
       "    </tr>\n",
       "    <tr>\n",
       "      <th>93</th>\n",
       "      <td>1056</td>\n",
       "      <td>Adidas</td>\n",
       "      <td>Men • Originals</td>\n",
       "      <td>₹13 999.00</td>\n",
       "      <td>SUDDELL TRACK TOP</td>\n",
       "      <td>Men • Originals</td>\n",
       "      <td>Secure transactions with hassle free 14 days E...</td>\n",
       "    </tr>\n",
       "    <tr>\n",
       "      <th>94</th>\n",
       "      <td>1057</td>\n",
       "      <td>Adidas</td>\n",
       "      <td>None</td>\n",
       "      <td>None</td>\n",
       "      <td>None</td>\n",
       "      <td>None</td>\n",
       "      <td>None</td>\n",
       "    </tr>\n",
       "    <tr>\n",
       "      <th>95</th>\n",
       "      <td>1058</td>\n",
       "      <td>Adidas</td>\n",
       "      <td>Women • Training</td>\n",
       "      <td>₹3 999.00</td>\n",
       "      <td>HYPERGLAM TRAINING CROP LONG SLEEVE TEE</td>\n",
       "      <td>Women • Training</td>\n",
       "      <td>Secure transactions with hassle free 14 days E...</td>\n",
       "    </tr>\n",
       "  </tbody>\n",
       "</table>\n",
       "<p>96 rows × 7 columns</p>\n",
       "</div>"
      ],
      "text/plain": [
       "     SNo Brandname          Category       Price  \\\n",
       "0    963    Adidas   Boys • Football   ₹3 999.00   \n",
       "1    964    Adidas   Women • Running   ₹7 599.00   \n",
       "2    965    Adidas   Men • Originals  ₹13 999.00   \n",
       "3    966    Adidas   Men • Originals   ₹7 599.00   \n",
       "4    967    Adidas  Men • Basketball   ₹3 599.00   \n",
       "..   ...       ...               ...         ...   \n",
       "91  1054    Adidas        Men • Golf   ₹4 999.00   \n",
       "92  1055    Adidas        Men • Swim   ₹2 799.00   \n",
       "93  1056    Adidas   Men • Originals  ₹13 999.00   \n",
       "94  1057    Adidas              None        None   \n",
       "95  1058    Adidas  Women • Training   ₹3 999.00   \n",
       "\n",
       "                                          ProductName          occasion  \\\n",
       "0                           ITALY 24 HOME JERSEY KIDS   Boys • Football   \n",
       "1                   ULTIMATEADIDAS PRINT 7/8 LEGGINGS   Women • Running   \n",
       "2         BLUE VERSION CHALLENGER HALF-ZIP SWEATSHIRT   Men • Originals   \n",
       "3                      ADICOLOR OUTLINE TREFOIL PANTS   Men • Originals   \n",
       "4   DONOVAN MITCHELL 8-BIT GRAPHICS SIGNATURE BASK...  Men • Basketball   \n",
       "..                                                ...               ...   \n",
       "91                      DRIVE HEATHER GOLF POLO SHIRT        Men • Golf   \n",
       "92                                 SOLID SWIM JAMMERS        Men • Swim   \n",
       "93                                  SUDDELL TRACK TOP   Men • Originals   \n",
       "94                                               None              None   \n",
       "95            HYPERGLAM TRAINING CROP LONG SLEEVE TEE  Women • Training   \n",
       "\n",
       "                                           returntime  \n",
       "0   Secure transactions with hassle free 14 days E...  \n",
       "1   Secure transactions with hassle free 14 days E...  \n",
       "2   Secure transactions with hassle free 14 days E...  \n",
       "3   Secure transactions with hassle free 14 days E...  \n",
       "4   Secure transactions with hassle free 14 days E...  \n",
       "..                                                ...  \n",
       "91  Secure transactions with hassle free 14 days E...  \n",
       "92  Secure transactions with hassle free 14 days E...  \n",
       "93  Secure transactions with hassle free 14 days E...  \n",
       "94                                               None  \n",
       "95  Secure transactions with hassle free 14 days E...  \n",
       "\n",
       "[96 rows x 7 columns]"
      ]
     },
     "execution_count": 85,
     "metadata": {},
     "output_type": "execute_result"
    }
   ],
   "source": [
    "import pandas as pd\n",
    "table1_9=pd.DataFrame({'SNo':Sno,'Brandname':Brandname,'Category':Category,'Price':Price,'ProductName':ProductName,'occasion':occasion,'returntime':returntime})\n",
    "#df=pd.DataFrame({'Category':Category,'ProductName':ProductName,'Price':Price})\n",
    "table1_9"
   ]
  },
  {
   "cell_type": "code",
   "execution_count": 86,
   "id": "eddf09b1",
   "metadata": {},
   "outputs": [],
   "source": [
    "table1_9.to_csv('D:\\\\clothingdata\\\\Table1\\\\table1_9.csv', index=False)"
   ]
  },
  {
   "cell_type": "code",
   "execution_count": 33,
   "id": "045672ff",
   "metadata": {},
   "outputs": [],
   "source": [
    "for i in apparel_url:\n",
    "    driver.get(i)\n",
    "    time.sleep(5)  # Ensure page is fully loaded\n",
    "\n",
    "    try:\n",
    "        # Wait for dropdown button to be clickable\n",
    "        dropdown_button = WebDriverWait(driver, 10).until(EC.element_to_be_clickable((By.XPATH, \"/html/body/div[2]/div/div[1]/div[1]/div/div/div[4]/div[1]/div[3]/section[2]/div/div/button/div[2]/span\")))\n",
    "        dropdown_button.click()\n",
    "\n",
    "        # Wait for \"Country of Origin\" element to be visible\n",
    "        Countryoforigin_tags = WebDriverWait(driver, 10).until(EC.visibility_of_element_located((By.XPATH, '/html/body/div[2]/div/div[1]/div[1]/div/div/div[4]/div[1]/div[3]/section[2]/div/div/div/div/div[2]/div/div/div[5]/div[2]/div')))\n",
    "\n",
    "        # Append text to list\n",
    "        Countryoforigin.append(Countryoforigin_tags.text)  \n",
    "    except NoSuchElementException:\n",
    "        Countryoforigin.append(None)"
   ]
  },
  {
   "cell_type": "code",
   "execution_count": 46,
   "id": "c434993f",
   "metadata": {},
   "outputs": [
    {
     "name": "stdout",
     "output_type": "stream",
     "text": [
      "['India', 'China', 'China']\n"
     ]
    }
   ],
   "source": [
    "print(Countryoforigin)"
   ]
  },
  {
   "cell_type": "code",
   "execution_count": 47,
   "id": "e98ce84f",
   "metadata": {},
   "outputs": [],
   "source": [
    "for i in apparel_url:\n",
    "    driver.get(i)\n",
    "    time.sleep(5)  # Ensure page is fully loaded\n",
    "\n",
    "    try:\n",
    "        # Wait for dropdown button to be clickable\n",
    "        dropdown_button = WebDriverWait(driver, 10).until(EC.element_to_be_clickable((By.XPATH,\"/html/body/div[2]/div/div[1]/div[1]/div/div/div[4]/div[1]/div[3]/section[2]/div/div/button/div[2]/span\")))\n",
    "        dropdown_button.click()\n",
    "\n",
    "        # Wait for \"Country of Origin\" element to be visible\n",
    "        material_tags = WebDriverWait(driver, 10).until(EC.visibility_of_element_located((By.XPATH,'//div[@class=\"accordion__content___29x9h\"]/div/div/ul/li[3]')))\n",
    "\n",
    "        # Append text to list\n",
    "        Materialtype.append(material_tags.text)  \n",
    "    except NoSuchElementException:\n",
    "        Materialtype.append(None)"
   ]
  },
  {
   "cell_type": "code",
   "execution_count": 49,
   "id": "1f84fc4d",
   "metadata": {},
   "outputs": [
    {
     "name": "stdout",
     "output_type": "stream",
     "text": [
      "['100% recycled polyester', '100% recycled polyester tricot', 'Sueded adidas logo on leg']\n"
     ]
    }
   ],
   "source": [
    "print(Materialtype)"
   ]
  },
  {
   "cell_type": "code",
   "execution_count": 50,
   "id": "8282254e",
   "metadata": {},
   "outputs": [],
   "source": [
    "for i in apparel_url:\n",
    "    driver.get(i)\n",
    "    time.sleep(10)  # Ensure page is fully loaded\n",
    "\n",
    "    try:\n",
    "        # Wait for dropdown button to be clickable\n",
    "        dropdown_button = WebDriverWait(driver, 15).until(EC.element_to_be_clickable((By.XPATH,'//button[@class=\"accordion__header___3Pii5\"]/div/div/div')))\n",
    "        dropdown_button.click()\n",
    "\n",
    "        # Wait for \"Country of Origin\" element to be visible\n",
    "        review_tags = WebDriverWait(driver, 10).until(EC.visibility_of_element_located((By.CLASS_NAME,\"rating___1z9bb\")))\n",
    "\n",
    "        # Append text to list\n",
    "        reviews.append(review_tags.text)  \n",
    "    except NoSuchElementException:\n",
    "        reviews.append(None)"
   ]
  },
  {
   "cell_type": "code",
   "execution_count": 51,
   "id": "87a0e133",
   "metadata": {},
   "outputs": [
    {
     "name": "stdout",
     "output_type": "stream",
     "text": [
      "['4.8', '4.7', '5.0']\n"
     ]
    }
   ],
   "source": [
    "print(reviews)"
   ]
  },
  {
   "cell_type": "code",
   "execution_count": 52,
   "id": "8f66dc1f",
   "metadata": {},
   "outputs": [],
   "source": [
    "for i in apparel_url:\n",
    "    driver.get(i)\n",
    "    time.sleep(5)  # Ensure page is fully loaded\n",
    "\n",
    "    try:\n",
    "        dropdown_button = WebDriverWait(driver, 10).until(EC.element_to_be_clickable((By.XPATH,\"/html/body/div[2]/div/div[1]/div[1]/div/div/div[4]/div[1]/div[3]/section[2]/div/div/button/div[2]/span\")))\n",
    "        dropdown_button.click()\n",
    "        productcode_tag = WebDriverWait(driver, 20).until(EC.presence_of_element_located((By.XPATH,'//*[contains(@class, \"gl-list\")][2]')))\n",
    "        Productcode.append(productcode_tag.text)  \n",
    "    except NoSuchElementException:\n",
    "        Productcode.append(None)"
   ]
  },
  {
   "cell_type": "code",
   "execution_count": 53,
   "id": "5397b544",
   "metadata": {},
   "outputs": [
    {
     "data": {
      "text/plain": [
       "['3 stripes on the shoulder\\nAEROREADY\\nColour: Bright Blue\\nProduct code: JI6696',\n",
       " 'Droptail hem\\nReal Madrid embroidered crest\\n\"¡Hala Madrid!\" on back collar\\nColour: White\\nProduct code: HR3796',\n",
       " 'Side seam pockets with perforated four-way stretch lining\\nSueded black bar label on centre front\\nColour: Clay\\nProduct code: IS8704']"
      ]
     },
     "execution_count": 53,
     "metadata": {},
     "output_type": "execute_result"
    }
   ],
   "source": [
    "Productcode"
   ]
  },
  {
   "cell_type": "code",
   "execution_count": 54,
   "id": "a919495e",
   "metadata": {},
   "outputs": [],
   "source": [
    "for i in apparel_url:\n",
    "    driver.get(i)\n",
    "    time.sleep(5)  # Ensure page is fully loaded\n",
    "\n",
    "    try:\n",
    "        # Wait for dropdown button to be clickable\n",
    "        dropdown_button = WebDriverWait(driver, 10).until(EC.element_to_be_clickable((By.XPATH,\"/html/body/div[2]/div/div[1]/div[1]/div/div/div[4]/div[1]/div[3]/section[2]/div/div/button/div[2]/span\")))\n",
    "        dropdown_button.click()\n",
    "\n",
    "        # Wait for the product code element\n",
    "        productcode_tag = WebDriverWait(driver, 20).until(EC.presence_of_element_located((By.XPATH,'//*[contains(@class, \"gl-list\")][2]')))\n",
    "\n",
    "        # Extract and process the text\n",
    "        text = productcode_tag.text\n",
    "        # Split the text by '\\n' to get individual lines\n",
    "        lines = text.split('\\n')\n",
    "        # Get the last line\n",
    "        last_line = lines[-1]\n",
    "        # Get the text after the last ':'\n",
    "        last_colon_text = last_line.split(':')[-1].strip()\n",
    "        \n",
    "        # Append processed text to list\n",
    "        Productcode.append(last_colon_text)\n",
    "    except NoSuchElementException:\n",
    "        Productcode.append(None)\n"
   ]
  },
  {
   "cell_type": "code",
   "execution_count": 55,
   "id": "ee865ff0",
   "metadata": {},
   "outputs": [
    {
     "data": {
      "text/plain": [
       "['3 stripes on the shoulder\\nAEROREADY\\nColour: Bright Blue\\nProduct code: JI6696',\n",
       " 'Droptail hem\\nReal Madrid embroidered crest\\n\"¡Hala Madrid!\" on back collar\\nColour: White\\nProduct code: HR3796',\n",
       " 'Side seam pockets with perforated four-way stretch lining\\nSueded black bar label on centre front\\nColour: Clay\\nProduct code: IS8704',\n",
       " 'JI6696',\n",
       " 'HR3796',\n",
       " 'IS8704']"
      ]
     },
     "execution_count": 55,
     "metadata": {},
     "output_type": "execute_result"
    }
   ],
   "source": [
    "Productcode"
   ]
  },
  {
   "cell_type": "code",
   "execution_count": 56,
   "id": "4bd27bfe",
   "metadata": {},
   "outputs": [],
   "source": [
    "color=[]\n",
    "for i in apparel_url:\n",
    "    driver.get(i)\n",
    "    time.sleep(5)  # Ensure page is fully loaded\n",
    "\n",
    "    try:\n",
    "        # Wait for dropdown button to be clickable\n",
    "        dropdown_button = WebDriverWait(driver, 10).until(EC.element_to_be_clickable((By.XPATH,\"/html/body/div[2]/div/div[1]/div[1]/div/div/div[4]/div[1]/div[3]/section[2]/div/div/button/div[2]/span\")))\n",
    "        dropdown_button.click()\n",
    "\n",
    "        # Wait for the product code element\n",
    "        color_tag = WebDriverWait(driver, 20).until(EC.presence_of_element_located((By.XPATH,'//*[contains(@class, \"gl-list\")][2]')))\n",
    "\n",
    "        # Extract and process the text\n",
    "        text = color_tag.text\n",
    "        # Split the text by '\\n' to get individual lines\n",
    "        lines = text.split('\\n')\n",
    "        # Get the last line\n",
    "        last_line = lines[-2]\n",
    "        # Get the text after the last ':'\n",
    "        last_colon_text = last_line.split(':')[-1].strip()\n",
    "        \n",
    "        # Append processed text to list\n",
    "        color.append(last_colon_text)\n",
    "    except NoSuchElementException:\n",
    "        color.append(None)"
   ]
  },
  {
   "cell_type": "code",
   "execution_count": 57,
   "id": "5a32510f",
   "metadata": {},
   "outputs": [
    {
     "data": {
      "text/plain": [
       "['Bright Blue', 'White', 'Clay']"
      ]
     },
     "execution_count": 57,
     "metadata": {},
     "output_type": "execute_result"
    }
   ],
   "source": [
    "color"
   ]
  },
  {
   "cell_type": "code",
   "execution_count": 86,
   "id": "f996acfc",
   "metadata": {},
   "outputs": [],
   "source": [
    "for i in apparel_url:\n",
    "    driver.get(i)\n",
    "    time.sleep(5) \n",
    "\n",
    "    try:\n",
    "        \n",
    "        returntime_tags = WebDriverWait(driver, 10).until(EC.visibility_of_element_located((By.XPATH,\"/html/body/div[2]/div/div[1]/div[1]/div/div/div[4]/div[2]/div[2]/section/div[5]/div[4]/div/div[2]/div/a\")))\n",
    "        #return_tag = WebDriverWait(driver, 20).until(EC.presence_of_element_located((By.XPATH,'//*[contains(@class, \"gl-list\")][2]')))\n",
    "        returntime.append(returntime_tags.text)  \n",
    "    except NoSuchElementException:\n",
    "        returntime.append(None)"
   ]
  },
  {
   "cell_type": "code",
   "execution_count": 101,
   "id": "38f2bcd1",
   "metadata": {},
   "outputs": [
    {
     "data": {
      "text/plain": [
       "['Secure transactions with hassle free 14 days Exchange and Returns',\n",
       " 'Secure transactions with hassle free 14 days Exchange and Returns',\n",
       " 'Secure transactions with hassle free 14 days Exchange and Returns']"
      ]
     },
     "execution_count": 101,
     "metadata": {},
     "output_type": "execute_result"
    }
   ],
   "source": [
    "returntime"
   ]
  },
  {
   "cell_type": "code",
   "execution_count": 61,
   "id": "edef07ff",
   "metadata": {},
   "outputs": [
    {
     "name": "stdout",
     "output_type": "stream",
     "text": [
      "['14', '14', '14']\n"
     ]
    }
   ],
   "source": [
    "returntime_days = [item.split(' ')[-5] for item in returntime]\n",
    "\n",
    "# Print cleaned list\n",
    "print(returntime_days)\n"
   ]
  },
  {
   "cell_type": "code",
   "execution_count": 62,
   "id": "eca95648",
   "metadata": {},
   "outputs": [],
   "source": [
    "for i in apparel_url:  # iterating each and every url to fetch full job details\n",
    "    driver.get(i)\n",
    "    time.sleep(5)\n",
    "    try:\n",
    "        # Corrected CSS selector and used proper quotes around attribute value\n",
    "        category_tags = driver.find_element(By.XPATH, '/html/body/div[2]/div/div[1]/div[1]/div/div/div[4]/div[2]/div[2]/div[1]/div[1]/div/span')\n",
    "        Category.append(category_tags.text)  # Append the extracted text to the color1 list\n",
    "    except NoSuchElementException:\n",
    "        Category.append(None)"
   ]
  },
  {
   "cell_type": "code",
   "execution_count": 63,
   "id": "5333aa13",
   "metadata": {},
   "outputs": [
    {
     "name": "stdout",
     "output_type": "stream",
     "text": [
      "['Men • Cricket', 'Men • Football', 'Men • Fear of God Athletics']\n"
     ]
    }
   ],
   "source": [
    "print(Category)"
   ]
  },
  {
   "cell_type": "code",
   "execution_count": 64,
   "id": "553561c3",
   "metadata": {},
   "outputs": [
    {
     "name": "stdout",
     "output_type": "stream",
     "text": [
      "['Men', 'Men', 'Men']\n"
     ]
    }
   ],
   "source": [
    "Category1 = [word for sample in Category for word in sample.split() if word == 'Men' or word == 'Women']\n",
    "print(Category1)"
   ]
  },
  {
   "cell_type": "code",
   "execution_count": 65,
   "id": "505582cf",
   "metadata": {},
   "outputs": [],
   "source": [
    "sizes=[]\n",
    "for i in apparel_url:  # iterating each and every url to fetch full job details\n",
    "    driver.get(i)\n",
    "    time.sleep(5)\n",
    "    try:\n",
    "        # Corrected CSS selector and used proper quotes around attribute value\n",
    "        sizes_tags = driver.find_element(By.XPATH, '/html/body/div[2]/div/div[1]/div[1]/div/div/div[4]/div[2]/div[2]/section/div[1]')\n",
    "        sizes.append(sizes_tags.text)  # Append the extracted text to the color1 list\n",
    "    except NoSuchElementException:\n",
    "        sizes.append(None)"
   ]
  },
  {
   "cell_type": "code",
   "execution_count": 66,
   "id": "a9d777ac",
   "metadata": {},
   "outputs": [
    {
     "data": {
      "text/plain": [
       "['Sizes\\nXS\\nS\\nM\\nL\\nXL\\n2XL\\n3XL',\n",
       " 'Sizes\\nXS\\nS\\nM\\nL\\nXL\\n2XL\\n3XL',\n",
       " 'Sizes\\n2XS\\nXS\\nS\\nM\\nL\\nXL\\n2XL']"
      ]
     },
     "execution_count": 66,
     "metadata": {},
     "output_type": "execute_result"
    }
   ],
   "source": [
    "sizes"
   ]
  },
  {
   "cell_type": "code",
   "execution_count": 67,
   "id": "ed9adbc3",
   "metadata": {},
   "outputs": [
    {
     "name": "stdout",
     "output_type": "stream",
     "text": [
      "[['XS', 'S', 'M', 'L', 'XL', '2XL', '3XL'], ['XS', 'S', 'M', 'L', 'XL', '2XL', '3XL'], ['2XS', 'XS', 'S', 'M', 'L', 'XL', '2XL']]\n"
     ]
    }
   ],
   "source": [
    "separate_lists = []\n",
    "\n",
    "for item in sizes:\n",
    "    # Split the string by '\\n' and discard the first element (which is \"Sizes\")\n",
    "    text_after_sizes = item.split('\\n')[1:]\n",
    "    separate_lists.append(text_after_sizes)\n",
    "\n",
    "print(separate_lists)"
   ]
  },
  {
   "cell_type": "code",
   "execution_count": 68,
   "id": "5df96e59",
   "metadata": {},
   "outputs": [
    {
     "name": "stdout",
     "output_type": "stream",
     "text": [
      "Size 1: ['XS', 'XS', '2XS']\n",
      "Size 2: ['S', 'S', 'XS']\n",
      "Size 3: ['M', 'M', 'S']\n",
      "Size 4: ['L', 'L', 'M']\n"
     ]
    }
   ],
   "source": [
    "size1 = []\n",
    "size2 = []\n",
    "size3 = []\n",
    "size4 = []\n",
    "\n",
    "# Iterate over each sub-list and assign elements to separate lists\n",
    "for sublist in separate_lists:\n",
    "    size1.append(sublist[0])\n",
    "    size2.append(sublist[1])\n",
    "    size3.append(sublist[2])\n",
    "    size4.append(sublist[3])\n",
    "\n",
    "print(\"Size 1:\", size1)\n",
    "print(\"Size 2:\", size2)\n",
    "print(\"Size 3:\", size3)\n",
    "print(\"Size 4:\", size4)"
   ]
  },
  {
   "cell_type": "code",
   "execution_count": 69,
   "id": "62383bf5",
   "metadata": {},
   "outputs": [
    {
     "data": {
      "text/plain": [
       "['XS', 'XS', '2XS']"
      ]
     },
     "execution_count": 69,
     "metadata": {},
     "output_type": "execute_result"
    }
   ],
   "source": [
    "size1"
   ]
  },
  {
   "cell_type": "code",
   "execution_count": 70,
   "id": "f7f349e3",
   "metadata": {},
   "outputs": [
    {
     "data": {
      "text/plain": [
       "['S', 'S', 'XS']"
      ]
     },
     "execution_count": 70,
     "metadata": {},
     "output_type": "execute_result"
    }
   ],
   "source": [
    "size2"
   ]
  },
  {
   "cell_type": "code",
   "execution_count": 71,
   "id": "3825db79",
   "metadata": {},
   "outputs": [],
   "source": [
    "ProductName=[]\n",
    "for i in apparel_url:  # iterating each and every url to fetch full job details\n",
    "    driver.get(i)\n",
    "    time.sleep(5)\n",
    "    try:\n",
    "        # Corrected CSS selector and used proper quotes around attribute value\n",
    "        productname_tags = driver.find_element(By.XPATH, '/html/body/div[2]/div/div[1]/div[1]/div/div/div[4]/div[2]/div[2]/div[1]/h1')\n",
    "        ProductName.append(productname_tags.text)  # Append the extracted text to the color1 list\n",
    "    except NoSuchElementException:\n",
    "        ProductName.append(None)"
   ]
  },
  {
   "cell_type": "code",
   "execution_count": 72,
   "id": "27e82aba",
   "metadata": {},
   "outputs": [
    {
     "data": {
      "text/plain": [
       "['INDIA CRICKET ODI FAN JERSEY',\n",
       " 'REAL MADRID 23/24 HOME JERSEY',\n",
       " 'FEAR OF GOD ATHLETICS SUEDE FLEECE SHORTS']"
      ]
     },
     "execution_count": 72,
     "metadata": {},
     "output_type": "execute_result"
    }
   ],
   "source": [
    "ProductName"
   ]
  },
  {
   "cell_type": "code",
   "execution_count": 73,
   "id": "5a9c9997",
   "metadata": {},
   "outputs": [],
   "source": [
    "Colors=[]\n",
    "for i in apparel_url:  # iterating each and every url to fetch full job details\n",
    "    driver.get(i)\n",
    "    time.sleep(5)\n",
    "    try:\n",
    "        # Corrected CSS selector and used proper quotes around attribute value\n",
    "        colors_tags = driver.find_element(By.XPATH, '/html/body/div[2]/div/div[1]/div[1]/div/div/div[4]/div[2]/div[2]/div[2]')\n",
    "        Colors.append(colors_tags.text)  # Append the extracted text to the color1 list\n",
    "    except NoSuchElementException:\n",
    "        Colors.append(None)"
   ]
  },
  {
   "cell_type": "code",
   "execution_count": 74,
   "id": "35c61ead",
   "metadata": {},
   "outputs": [
    {
     "data": {
      "text/plain": [
       "['Bright Blue', 'White', 'Colours\\nClay']"
      ]
     },
     "execution_count": 74,
     "metadata": {},
     "output_type": "execute_result"
    }
   ],
   "source": [
    "Colors"
   ]
  },
  {
   "cell_type": "code",
   "execution_count": 75,
   "id": "00e3a6bb",
   "metadata": {},
   "outputs": [],
   "source": [
    "occasion=[]\n",
    "for i in apparel_url:  # iterating each and every url to fetch full job details\n",
    "    driver.get(i)\n",
    "    time.sleep(5)\n",
    "    try:\n",
    "        # Corrected CSS selector and used proper quotes around attribute value\n",
    "        occasion_tags = driver.find_element(By.XPATH, '/html/body/div[2]/div/div[1]/div[1]/div/div/div[4]/div[2]/div[2]/div[1]/div[1]/div/span')\n",
    "        occasion.append(occasion_tags.text)  # Append the extracted text to the color1 list\n",
    "    except NoSuchElementException:\n",
    "        occasion.append(None)"
   ]
  },
  {
   "cell_type": "code",
   "execution_count": 76,
   "id": "0ae3bee9",
   "metadata": {},
   "outputs": [
    {
     "data": {
      "text/plain": [
       "['Men • Cricket', 'Men • Football', 'Men • Fear of God Athletics']"
      ]
     },
     "execution_count": 76,
     "metadata": {},
     "output_type": "execute_result"
    }
   ],
   "source": [
    "occasion"
   ]
  },
  {
   "cell_type": "code",
   "execution_count": 77,
   "id": "abf8f309",
   "metadata": {},
   "outputs": [
    {
     "name": "stdout",
     "output_type": "stream",
     "text": [
      "['Cricket', 'Football', 'Fear of God Athletics']\n"
     ]
    }
   ],
   "source": [
    "updated_list = [item.split('•')[1].strip() for item in occasion]\n",
    "print(updated_list)"
   ]
  },
  {
   "cell_type": "code",
   "execution_count": 78,
   "id": "e8beaf45",
   "metadata": {},
   "outputs": [],
   "source": [
    "producttype=[]\n",
    "for i in apparel_url:\n",
    "    driver.get(i)\n",
    "    time.sleep(10)  # Ensure page is fully loaded\n",
    "\n",
    "    try:\n",
    "        # Wait for dropdown button to be clickable\n",
    "        dropdown_button = WebDriverWait(driver, 10).until(EC.element_to_be_clickable((By.XPATH,\"/html/body/div[2]/div/div[1]/div[1]/div/div/div[4]/div[1]/div[3]/section[2]/div/div/button/div[2]/span\")))\n",
    "        dropdown_button.click()\n",
    "\n",
    "        # Wait for \"Country of Origin\" element to be visible\n",
    "        producttype_tags = WebDriverWait(driver, 10).until(EC.visibility_of_element_located((By.XPATH,'//div[@class=\"accordion__content___29x9h\"]/div/div/ul/li[1]')))\n",
    "\n",
    "        # Append text to list\n",
    "        producttype.append(producttype_tags.text)  \n",
    "    except NoSuchElementException:\n",
    "        producttype.append(None)"
   ]
  },
  {
   "cell_type": "code",
   "execution_count": 79,
   "id": "392d14b4",
   "metadata": {},
   "outputs": [
    {
     "data": {
      "text/plain": [
       "['Regular fit', 'Slim fit', 'Relaxed fit in seat and leg']"
      ]
     },
     "execution_count": 79,
     "metadata": {},
     "output_type": "execute_result"
    }
   ],
   "source": [
    "producttype"
   ]
  },
  {
   "cell_type": "code",
   "execution_count": 164,
   "id": "dcfb7aaf",
   "metadata": {},
   "outputs": [
    {
     "name": "stdout",
     "output_type": "stream",
     "text": [
      "['bottomwear CRICKET ODI FAN topwear', 'REAL MADRID 23/24 HOME topwear', 'bottomwear CRICKET TRI COLOR topwear WITH 2 STARS MEN']\n"
     ]
    }
   ],
   "source": [
    "Original list\n",
    "original_list = ['INDIA CRICKET ODI FAN JERSEY',\n",
    "                 #'REAL MADRID 23/24 HOME JERSEY',\n",
    "                 #'INDIA CRICKET TRI COLOR JERSEY WITH 2 STARS MEN']\n",
    "\n",
    "# Replace \"JERSEY\" with \"topwear\" and \"INDIA\" with \"bottomwear\"\n",
    "updated_list = []\n",
    "for item in original_list:\n",
    "    if 'JERSEY' in item:\n",
    "        item = item.replace('JERSEY', 'topwear')\n",
    "    if 'INDIA' in item:\n",
    "        item = item.replace('INDIA', 'bottomwear')\n",
    "    updated_list.append(item)\n",
    "\n",
    "print(updated_list)\n"
   ]
  },
  {
   "cell_type": "code",
   "execution_count": 80,
   "id": "8ee01dd4",
   "metadata": {},
   "outputs": [
    {
     "name": "stdout",
     "output_type": "stream",
     "text": [
      "['bottomwear', 'topwear', 'bottomwear']\n"
     ]
    }
   ],
   "source": [
    "original_list = ['bottomwear CRICKET ODI FAN topwear',\n",
    "                 'REAL MADRID 23/24 HOME topwear',\n",
    "                 'bottomwear CRICKET TRI COLOR topwear WITH 2 STARS MEN']\n",
    "\n",
    "# Replace elements with \"topwear\" or \"bottomwear\" based on presence of keywords\n",
    "updated_list = []\n",
    "for item in original_list:\n",
    "    if 'CRICKET' in item or 'FOOTBALL' in item:  # Check for sports keywords\n",
    "        updated_list.append('bottomwear')\n",
    "    else:\n",
    "        updated_list.append('topwear')\n",
    "\n",
    "print(updated_list)"
   ]
  },
  {
   "cell_type": "code",
   "execution_count": 17,
   "id": "351832ef",
   "metadata": {},
   "outputs": [
    {
     "name": "stdout",
     "output_type": "stream",
     "text": [
      "['topwear', 'topwear', 'bottomwear']\n"
     ]
    }
   ],
   "source": [
    "ProductName = ['INDIA CRICKET ODI FAN JERSEY',\n",
    " 'REAL MADRID 23/24 HOME JERSEY',\n",
    " 'FEAR OF GOD ATHLETICS SUEDE FLEECE SHORTS']\n",
    "\n",
    "# Replace elements with \"topwear\" or \"bottomwear\" based on presence of keywords\n",
    "Weartype = []\n",
    "for item in ProductName:\n",
    "    if 'JERSEY' in item:  # Check for sports keywords\n",
    "        Weartype.append('topwear')\n",
    "    else:\n",
    "        Weartype.append('bottomwear')\n",
    "\n",
    "print(Weartype)"
   ]
  },
  {
   "cell_type": "markdown",
   "id": "2425533b",
   "metadata": {},
   "source": [
    "# fgfg"
   ]
  },
  {
   "cell_type": "code",
   "execution_count": null,
   "id": "b12e8a96",
   "metadata": {},
   "outputs": [],
   "source": []
  }
 ],
 "metadata": {
  "kernelspec": {
   "display_name": "Python 3 (ipykernel)",
   "language": "python",
   "name": "python3"
  },
  "language_info": {
   "codemirror_mode": {
    "name": "ipython",
    "version": 3
   },
   "file_extension": ".py",
   "mimetype": "text/x-python",
   "name": "python",
   "nbconvert_exporter": "python",
   "pygments_lexer": "ipython3",
   "version": "3.9.13"
  }
 },
 "nbformat": 4,
 "nbformat_minor": 5
}
