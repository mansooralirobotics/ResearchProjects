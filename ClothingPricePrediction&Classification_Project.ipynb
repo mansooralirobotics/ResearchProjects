{
 "cells": [
  {
   "cell_type": "code",
   "execution_count": 1,
   "id": "c4b08615",
   "metadata": {},
   "outputs": [],
   "source": [
    "import selenium \n",
    "import pandas as pd\n",
    "from selenium import webdriver\n",
    "import warnings\n",
    "warnings.filterwarnings('ignore')\n",
    "from selenium.webdriver.common.by import By \n",
    "import time \n",
    "from selenium.webdriver.support.ui import WebDriverWait\n",
    "from selenium.common.exceptions import StaleElementReferenceException,NoSuchElementException,ElementNotInteractableException\n",
    "from selenium.webdriver.support import expected_conditions as EC\n",
    "from selenium.webdriver.common.keys import Keys\n",
    "from IPython.display import display, clear_output"
   ]
  },
  {
   "cell_type": "code",
   "execution_count": 2,
   "id": "364f0a74",
   "metadata": {},
   "outputs": [],
   "source": [
    "driver=webdriver.Firefox()"
   ]
  },
  {
   "cell_type": "code",
   "execution_count": 3,
   "id": "6005fbc2",
   "metadata": {},
   "outputs": [],
   "source": [
    "driver.get(\" https://www.adidas.co.in/\")"
   ]
  },
  {
   "cell_type": "code",
   "execution_count": 4,
   "id": "522163d3",
   "metadata": {},
   "outputs": [],
   "source": [
    "search=driver.find_element(By.XPATH,'/html/body/div[1]/div[2]/div[2]/div/header/div[2]/div/div[2]/div/input')\n",
    "time.sleep(5)"
   ]
  },
  {
   "cell_type": "code",
   "execution_count": 5,
   "id": "479c61ea",
   "metadata": {},
   "outputs": [],
   "source": [
    "search.click()"
   ]
  },
  {
   "cell_type": "code",
   "execution_count": 6,
   "id": "7bfab236",
   "metadata": {},
   "outputs": [],
   "source": [
    "search.send_keys('apparel')\n",
    "time.sleep(5)"
   ]
  },
  {
   "cell_type": "code",
   "execution_count": 7,
   "id": "d58d15f1",
   "metadata": {},
   "outputs": [],
   "source": [
    "search.send_keys(Keys.ENTER)"
   ]
  },
  {
   "cell_type": "code",
   "execution_count": 8,
   "id": "26ee776b",
   "metadata": {},
   "outputs": [],
   "source": [
    "try:\n",
    "    \n",
    "    discount_element = WebDriverWait(driver, 10).until(\n",
    "        EC.presence_of_element_located((By.XPATH, '/html/body/div[2]/div/div[1]/div[1]/div/div/div[4]/div/div[2]/div/div/div[1]/div[1]/div/div/div/div[1]/div/div[2]/div[1]/span[1]'))\n",
    "    )\n",
    "    \n",
    "    discount_element.click()\n",
    "\n",
    "except ElementNotInteractableException as e:\n",
    "    print(\"Element is not interactable:\", e)"
   ]
  },
  {
   "cell_type": "code",
   "execution_count": 9,
   "id": "e4e769d9",
   "metadata": {},
   "outputs": [],
   "source": [
    "try:\n",
    "    \n",
    "    zero_discount_element = WebDriverWait(driver, 10).until(\n",
    "        EC.presence_of_element_located((By.XPATH, '/html/body/div[2]/div/div[1]/div[1]/div/div/div[4]/div/div[2]/div/div/div[1]/div[1]/div/div/div/div[1]/div/div[2]/div[2]/div/ul/li[12]/a/div/div/label/input'))\n",
    "    )\n",
    "    \n",
    "    zero_discount_element.click()\n",
    "\n",
    "except ElementNotInteractableException as e:\n",
    "    print(\"Element is not interactable:\", e)"
   ]
  },
  {
   "cell_type": "code",
   "execution_count": 10,
   "id": "0b7eb9df",
   "metadata": {},
   "outputs": [
    {
     "name": "stdout",
     "output_type": "stream",
     "text": [
      "Total URLs scraped: 96\n"
     ]
    }
   ],
   "source": [
    "# from pages 1 to 14 674 samples completed. 15,16 in progress\n",
    "driver.get('https://www.adidas.co.in/search?q=apparel&sale_percentage_en_in=0%25&start=672') \n",
    "apparel_url = []\n",
    "start = 1\n",
    "end = 2\n",
    "\n",
    "for page in range(start, end+1):\n",
    "    # Wait for the product URLs to be present on the page\n",
    "    WebDriverWait(driver, 10).until(EC.presence_of_all_elements_located((By.XPATH, '//a[@class=\"glass-product-card__assets-link\"]')))\n",
    "    \n",
    "    # Find all product URLs on the current page\n",
    "    url_elements = driver.find_elements(By.XPATH, '//a[@class=\"glass-product-card__assets-link\"]')\n",
    "    for element in url_elements:\n",
    "        apparel_url.append(element.get_attribute('href'))\n",
    "\n",
    "    # Click on the \"Next\" button to move to the next page\n",
    "    try:\n",
    "        next_button = WebDriverWait(driver, 10).until(\n",
    "            EC.element_to_be_clickable((By.XPATH, '/html/body/div[2]/div/div[1]/div[1]/div/div/div[4]/div/div[2]/div/div/div[2]/div[2]/div/div/div/div[4]/a/span'))\n",
    "        )\n",
    "        next_button.click()  # Click on the \"Next\" button\n",
    "    except:\n",
    "        print(\"No next page found\")\n",
    "        break  # Break the loop if there is no next page\n",
    "\n",
    "# After scraping, you can print or process the collected URLs\n",
    "print(\"Total URLs scraped:\", len(apparel_url))"
   ]
  },
  {
   "cell_type": "code",
   "execution_count": 11,
   "id": "ea48fb9f",
   "metadata": {},
   "outputs": [
    {
     "data": {
      "text/plain": [
       "['https://www.adidas.co.in/premium-essentials-tee/IS2751.html',\n",
       " 'https://www.adidas.co.in/future-icons-3-stripes-open-hem-pants/IN9474.html',\n",
       " 'https://www.adidas.co.in/inter-miami-cf-24-25-home-jersey/IU0190.html',\n",
       " 'https://www.adidas.co.in/juventus-pre-match-jersey/IW0462.html',\n",
       " 'https://www.adidas.co.in/d4t-yoga-7-8-pt/IV5870.html',\n",
       " 'https://www.adidas.co.in/z.n.e.-winterized-pants/IR5244.html',\n",
       " 'https://www.adidas.co.in/future-icons-3-stripes-woven-track-jacket/IN3316.html',\n",
       " 'https://www.adidas.co.in/adidas-cricket-india-tee-w/JD8474.html',\n",
       " 'https://www.adidas.co.in/adidas-select-shorts/IU2445.html',\n",
       " 'https://www.adidas.co.in/real-madrid-tiro-23-training-shorts/IQ0540.html',\n",
       " 'https://www.adidas.co.in/yompzee-m/IU5142.html',\n",
       " 'https://www.adidas.co.in/juventus-tiro-23-training-pants/IQ0871.html',\n",
       " 'https://www.adidas.co.in/4.0-stretch-logo-short-sleeve-tee/IS2661.html',\n",
       " 'https://www.adidas.co.in/drive-heather-golf-polo-shirt/IA5450.html',\n",
       " 'https://www.adidas.co.in/kerwin-frost-baggy-track-pants/H59894.html',\n",
       " 'https://www.adidas.co.in/blue-version-dress/HK7240.html',\n",
       " 'https://www.adidas.co.in/3-stripes-polo-tee/HZ8953.html',\n",
       " 'https://www.adidas.co.in/sereno-track-jacket/HY3911.html',\n",
       " 'https://www.adidas.co.in/3-stripes-clx-very-short-length-swim-shorts/IS2053.html',\n",
       " 'https://www.adidas.co.in/adicolor-classics-3-stripes-tee/IM0410.html',\n",
       " 'https://www.adidas.co.in/tlrd-impact-training-high-support-bra/IT6675.html',\n",
       " 'https://www.adidas.co.in/graphic-tank/IL5566.html',\n",
       " 'https://www.adidas.co.in/all-gym-category-pump-cover-hoodie/IS2355.html',\n",
       " 'https://www.adidas.co.in/flared-leggings/IN1100.html',\n",
       " 'https://www.adidas.co.in/classic-3-stripe-sereno-t-shirt-/HA5630.html',\n",
       " 'https://www.adidas.co.in/legends-3-stripes-basketball-shorts/IR5554.html',\n",
       " 'https://www.adidas.co.in/manchester-united-dna-full-zip-hoodie/IA8529.html',\n",
       " 'https://www.adidas.co.in/essentials-base-polo-shirt/FQ8018.html',\n",
       " 'https://www.adidas.co.in/training-essentials-base-3-stripes-tee/IM5980.html',\n",
       " 'https://www.adidas.co.in/chore-coat/IK9614.html',\n",
       " 'https://www.adidas.co.in/essentials-track-pants/HS5769.html',\n",
       " 'https://www.adidas.co.in/fashion-sweat-pants/IT7447.html',\n",
       " 'https://www.adidas.co.in/shmoofoil-all-star-short-sleeve-tee/IU0091.html',\n",
       " 'https://www.adidas.co.in/z.n.e.-premium-shorts/IQ3678.html',\n",
       " 'https://www.adidas.co.in/adicolor-classics-slim-cuffed-pants/IB7455.html',\n",
       " 'https://www.adidas.co.in/premium-essentials-tee/IT9421.html',\n",
       " 'https://www.adidas.co.in/tennis-freelift-tee/IA8288.html',\n",
       " 'https://www.adidas.co.in/tracksuit/HZ8961.html',\n",
       " 'https://www.adidas.co.in/own-the-run-vest/IN1575.html',\n",
       " 'https://www.adidas.co.in/trae-essential-tee/IL1625.html',\n",
       " 'https://www.adidas.co.in/aeroready-all-gym-category-graphic-tank-top/IS7091.html',\n",
       " 'https://www.adidas.co.in/essentials-single-jersey-big-logo-tee/IC9351.html',\n",
       " 'https://www.adidas.co.in/essentials-3-stripes-animal-print-leggings/IS2149.html',\n",
       " 'https://www.adidas.co.in/oscillo-w/IU5153.html',\n",
       " 'https://www.adidas.co.in/tiro-24-competition-training-top/IS1644.html',\n",
       " 'https://www.adidas.co.in/essentials-monogram-slim-graphic-tee/IS4076.html',\n",
       " 'https://www.adidas.co.in/embellished-joggers/IT9663.html',\n",
       " 'https://www.adidas.co.in/designed-for-training-tee/IC2023.html',\n",
       " 'https://www.adidas.co.in/adidas-by-stella-mccartney-long-sleeve-cropped-tee/IN3634.html',\n",
       " 'https://www.adidas.co.in/spain-24-home-jersey/IP9331.html',\n",
       " 'https://www.adidas.co.in/polo-tee/HZ8989.html',\n",
       " 'https://www.adidas.co.in/premium-pants/IS3857.html',\n",
       " 'https://www.adidas.co.in/juventus-23-24-third-jersey/HR8250.html',\n",
       " 'https://www.adidas.co.in/argentina-24-home-jersey/IP8409.html',\n",
       " 'https://www.adidas.co.in/oscillo-w/IU5154.html',\n",
       " 'https://www.adidas.co.in/ny-tee/IR5276.html',\n",
       " 'https://www.adidas.co.in/india-cricket-training-shorts/IX7142.html',\n",
       " 'https://www.adidas.co.in/solid-clx-classic-length-swim-shorts/IR6218.html',\n",
       " 'https://www.adidas.co.in/hiit-training-shorts/IS3725.html',\n",
       " 'https://www.adidas.co.in/essentials-3-stripes-animal-print-leggings/IS2150.html',\n",
       " 'https://www.adidas.co.in/adidas-by-stella-mccartney-woven-track-top/IN3618.html',\n",
       " 'https://www.adidas.co.in/m-all-szn-g-swt/IT5584.html',\n",
       " 'https://www.adidas.co.in/premium-essentials-cuffed-joggers/IS2579.html',\n",
       " 'https://www.adidas.co.in/all-szn-tee/IC9789.html',\n",
       " 'https://www.adidas.co.in/aeroready-essentials-chelsea-small-logo-shorts/IC9392.html',\n",
       " 'https://www.adidas.co.in/brand-love-clx-short-length-swim-shorts/IA3340.html',\n",
       " 'https://www.adidas.co.in/premium-essentials-short-hoodie/IS2745.html',\n",
       " 'https://www.adidas.co.in/own-the-run-jacket/IN1576.html',\n",
       " 'https://www.adidas.co.in/real-madrid-tiro-23-training-pants/IB0876.html',\n",
       " 'https://www.adidas.co.in/3-stripes-clx-very-short-length-swim-shorts/IS2054.html',\n",
       " 'https://www.adidas.co.in/y-3-organic-cotton-terry-shorts/IP7691.html',\n",
       " 'https://www.adidas.co.in/y-3-wide-nylon-pants/IP5589.html',\n",
       " 'https://www.adidas.co.in/adidas-cricket-graphics-howzatt-tee/JD8482.html',\n",
       " 'https://www.adidas.co.in/tr-es-comf-tee/IV9610.html',\n",
       " 'https://www.adidas.co.in/aeroready-train-essentials-3-stripes-tee/IC5039.html',\n",
       " 'https://www.adidas.co.in/club-tennis-3-stripes-tee/HR4287.html',\n",
       " 'https://www.adidas.co.in/fashion-short-sleeve-shirt/IT7440.html',\n",
       " 'https://www.adidas.co.in/legends-3-stripes-basketball-shorts/IR5556.html',\n",
       " 'https://www.adidas.co.in/3-stripes-leggings/H07771.html',\n",
       " 'https://www.adidas.co.in/training-essentials-crewneck-tee/IT0234.html',\n",
       " 'https://www.adidas.co.in/camo-football-track-pants/IS2920.html',\n",
       " 'https://www.adidas.co.in/adizero-half-zip-running-vest/IL1463.html',\n",
       " 'https://www.adidas.co.in/sereno-aeroready-cut-3-stripes-hoodie/IR9742.html',\n",
       " 'https://www.adidas.co.in/a-football-shirt-for-friendly-matches-and-cross-training/H28900.html',\n",
       " 'https://www.adidas.co.in/adidas-sportswear-future-icons-logo-graphic-tee/GR4111.html',\n",
       " 'https://www.adidas.co.in/real-madrid-pre-match-jersey/IQ0544.html',\n",
       " 'https://www.adidas.co.in/tr-es-mat-t/IZ4888.html',\n",
       " 'https://www.adidas.co.in/future-icons-3-stripes-pants/IS3522.html',\n",
       " 'https://www.adidas.co.in/adidas-cricket-rohit-sharma-highest-score-tee/JI6694.html',\n",
       " 'https://www.adidas.co.in/studio-tee/IS2979.html',\n",
       " 'https://www.adidas.co.in/city-escape-tee/IV7935.html',\n",
       " 'https://www.adidas.co.in/premium-essentials-short-hoodie/IC5247.html',\n",
       " 'https://www.adidas.co.in/city-foundation-graphic-tee/IN6369.html',\n",
       " 'https://www.adidas.co.in/essentials-3-stripes-single-jersey-crop-top/HR4913.html',\n",
       " 'https://www.adidas.co.in/originals-adicolor-3-stripes-swim-shorts/IK9194.html',\n",
       " 'https://www.adidas.co.in/ultimate-running-conquer-the-elements-aeroready-warming-leggings/IJ9088.html']"
      ]
     },
     "execution_count": 11,
     "metadata": {},
     "output_type": "execute_result"
    }
   ],
   "source": [
    "apparel_url"
   ]
  },
  {
   "cell_type": "code",
   "execution_count": 12,
   "id": "b9fb53ce",
   "metadata": {},
   "outputs": [],
   "source": [
    "Sno=[]\n",
    "Brandname=[]\n",
    "Category=[]\n",
    "Producttype=[]\n",
    "ProductName=[]\n",
    "Productcode=[]\n",
    "Price=[]\n",
    "color1=[]\n",
    "color2=[]\n",
    "color3=[]\n",
    "color4=[]\n",
    "Weartype=[]   \n",
    "Materialtype=[]\n",
    "reviews=[]\n",
    "Size1=[] \n",
    "Size2=[] \n",
    "Size3=[] \n",
    "Size4=[] \n",
    "Countryoforigin=[]\n",
    "returntime=[]   \n",
    "occasion=[]  "
   ]
  },
  {
   "cell_type": "code",
   "execution_count": 13,
   "id": "5b307d5b",
   "metadata": {},
   "outputs": [
    {
     "name": "stdout",
     "output_type": "stream",
     "text": [
      "Processing complete!\n"
     ]
    }
   ],
   "source": [
    "counter = 674\n",
    "for i in apparel_url:  # iterating each and every url to fetch full job details\n",
    "    driver.get(i)\n",
    "    time.sleep(5)\n",
    "    try:\n",
    "        price_tags = driver.find_element(By.XPATH,'/html/body/div[2]/div/div[1]/div[1]/div/div/div[4]/div[2]/div[2]/div[1]/div[2]/div/div/div/div')\n",
    "        Price.append(price_tags.text) \n",
    "        productname_tags = driver.find_element(By.XPATH,'/html/body/div[2]/div/div[1]/div[1]/div/div/div[4]/div[2]/div[2]/div[1]/h1')\n",
    "        ProductName.append(productname_tags.text)\n",
    "        category_tags = driver.find_element(By.XPATH, '/html/body/div[2]/div/div[1]/div[1]/div/div/div[4]/div[2]/div[2]/div[1]/div[1]/div/span')\n",
    "        Category.append(category_tags.text)  \n",
    "        occasion_tags = driver.find_element(By.XPATH, '/html/body/div[2]/div/div[1]/div[1]/div/div/div[4]/div[2]/div[2]/div[1]/div[1]/div/span')\n",
    "        occasion.append(occasion_tags.text)  \n",
    "        returntime_tags = WebDriverWait(driver, 10).until(EC.visibility_of_element_located((By.XPATH,\"/html/body/div[2]/div/div[1]/div[1]/div/div/div[4]/div[2]/div[2]/section/div[5]/div[4]/div/div[2]/div/a\")))\n",
    "        returntime.append(returntime_tags.text)  \n",
    "    \n",
    "\n",
    "    except NoSuchElementException:\n",
    "        Price.append(None)\n",
    "        ProductName.append(None)\n",
    "        Category.append(None)\n",
    "        occasion.append(None)\n",
    "        returntime.append(None)\n",
    "    counter += 1\n",
    "    Sno.append(counter)\n",
    "    Brandname.append('Adidas')\n",
    "    clear_output(wait=True)\n",
    "    display(f\"Processing samples:  {counter}\")\n",
    "\n",
    "clear_output(wait=True)\n",
    "print(\"Processing complete!\")"
   ]
  },
  {
   "cell_type": "code",
   "execution_count": 14,
   "id": "07c70a1e",
   "metadata": {},
   "outputs": [
    {
     "name": "stdout",
     "output_type": "stream",
     "text": [
      "96 96 96 96 96 96 96\n"
     ]
    }
   ],
   "source": [
    "print(len(Sno),len(Brandname),len(Category),len(Price),len(ProductName),len(occasion),len(returntime))"
   ]
  },
  {
   "cell_type": "code",
   "execution_count": 15,
   "id": "26c53ae4",
   "metadata": {
    "scrolled": true
   },
   "outputs": [
    {
     "data": {
      "text/html": [
       "<div>\n",
       "<style scoped>\n",
       "    .dataframe tbody tr th:only-of-type {\n",
       "        vertical-align: middle;\n",
       "    }\n",
       "\n",
       "    .dataframe tbody tr th {\n",
       "        vertical-align: top;\n",
       "    }\n",
       "\n",
       "    .dataframe thead th {\n",
       "        text-align: right;\n",
       "    }\n",
       "</style>\n",
       "<table border=\"1\" class=\"dataframe\">\n",
       "  <thead>\n",
       "    <tr style=\"text-align: right;\">\n",
       "      <th></th>\n",
       "      <th>SNo</th>\n",
       "      <th>Brandname</th>\n",
       "      <th>Category</th>\n",
       "      <th>Price</th>\n",
       "      <th>ProductName</th>\n",
       "      <th>occasion</th>\n",
       "      <th>returntime</th>\n",
       "    </tr>\n",
       "  </thead>\n",
       "  <tbody>\n",
       "    <tr>\n",
       "      <th>0</th>\n",
       "      <td>675</td>\n",
       "      <td>Adidas</td>\n",
       "      <td>Women • Originals</td>\n",
       "      <td>₹3 599.00</td>\n",
       "      <td>PREMIUM ESSENTIALS TEE</td>\n",
       "      <td>Women • Originals</td>\n",
       "      <td>Secure transactions with hassle free 14 days E...</td>\n",
       "    </tr>\n",
       "    <tr>\n",
       "      <th>1</th>\n",
       "      <td>676</td>\n",
       "      <td>Adidas</td>\n",
       "      <td>Women • Sportswear</td>\n",
       "      <td>₹6 999.00</td>\n",
       "      <td>FUTURE ICONS 3-STRIPES OPEN HEM PANTS</td>\n",
       "      <td>Women • Sportswear</td>\n",
       "      <td>Secure transactions with hassle free 14 days E...</td>\n",
       "    </tr>\n",
       "    <tr>\n",
       "      <th>2</th>\n",
       "      <td>677</td>\n",
       "      <td>Adidas</td>\n",
       "      <td>Men • Football</td>\n",
       "      <td>₹5 299.00</td>\n",
       "      <td>INTER MIAMI CF 24/25 HOME JERSEY</td>\n",
       "      <td>Men • Football</td>\n",
       "      <td>Secure transactions with hassle free 14 days E...</td>\n",
       "    </tr>\n",
       "    <tr>\n",
       "      <th>3</th>\n",
       "      <td>678</td>\n",
       "      <td>Adidas</td>\n",
       "      <td>Men • Football</td>\n",
       "      <td>₹4 599.00</td>\n",
       "      <td>JUVENTUS PRE-MATCH JERSEY</td>\n",
       "      <td>Men • Football</td>\n",
       "      <td>Secure transactions with hassle free 14 days E...</td>\n",
       "    </tr>\n",
       "    <tr>\n",
       "      <th>4</th>\n",
       "      <td>679</td>\n",
       "      <td>Adidas</td>\n",
       "      <td>Men • Training</td>\n",
       "      <td>₹3 999.00</td>\n",
       "      <td>D4T YOGA 7/8 PT</td>\n",
       "      <td>Men • Training</td>\n",
       "      <td>Secure transactions with hassle free 14 days E...</td>\n",
       "    </tr>\n",
       "    <tr>\n",
       "      <th>...</th>\n",
       "      <td>...</td>\n",
       "      <td>...</td>\n",
       "      <td>...</td>\n",
       "      <td>...</td>\n",
       "      <td>...</td>\n",
       "      <td>...</td>\n",
       "      <td>...</td>\n",
       "    </tr>\n",
       "    <tr>\n",
       "      <th>91</th>\n",
       "      <td>766</td>\n",
       "      <td>Adidas</td>\n",
       "      <td>Women • Originals</td>\n",
       "      <td>₹6 999.00</td>\n",
       "      <td>PREMIUM ESSENTIALS SHORT HOODIE</td>\n",
       "      <td>Women • Originals</td>\n",
       "      <td>Secure transactions with hassle free 14 days E...</td>\n",
       "    </tr>\n",
       "    <tr>\n",
       "      <th>92</th>\n",
       "      <td>767</td>\n",
       "      <td>Adidas</td>\n",
       "      <td>Men • Basketball</td>\n",
       "      <td>₹2 499.00</td>\n",
       "      <td>CITY FOUNDATION GRAPHIC TEE</td>\n",
       "      <td>Men • Basketball</td>\n",
       "      <td>Secure transactions with hassle free 14 days E...</td>\n",
       "    </tr>\n",
       "    <tr>\n",
       "      <th>93</th>\n",
       "      <td>768</td>\n",
       "      <td>Adidas</td>\n",
       "      <td>Women • Sportswear</td>\n",
       "      <td>₹2 499.00</td>\n",
       "      <td>ESSENTIALS 3-STRIPES SINGLE JERSEY CROP TOP</td>\n",
       "      <td>Women • Sportswear</td>\n",
       "      <td>Secure transactions with hassle free 14 days E...</td>\n",
       "    </tr>\n",
       "    <tr>\n",
       "      <th>94</th>\n",
       "      <td>769</td>\n",
       "      <td>Adidas</td>\n",
       "      <td>Men • Originals</td>\n",
       "      <td>₹4 599.00</td>\n",
       "      <td>ORIGINALS ADICOLOR 3-STRIPES SWIM SHORTS</td>\n",
       "      <td>Men • Originals</td>\n",
       "      <td>Secure transactions with hassle free 14 days E...</td>\n",
       "    </tr>\n",
       "    <tr>\n",
       "      <th>95</th>\n",
       "      <td>770</td>\n",
       "      <td>Adidas</td>\n",
       "      <td>Men • Running</td>\n",
       "      <td>₹6 599.00</td>\n",
       "      <td>ULTIMATE RUNNING CONQUER THE ELEMENTS AEROREAD...</td>\n",
       "      <td>Men • Running</td>\n",
       "      <td>Secure transactions with hassle free 14 days E...</td>\n",
       "    </tr>\n",
       "  </tbody>\n",
       "</table>\n",
       "<p>96 rows × 7 columns</p>\n",
       "</div>"
      ],
      "text/plain": [
       "    SNo Brandname            Category      Price  \\\n",
       "0   675    Adidas   Women • Originals  ₹3 599.00   \n",
       "1   676    Adidas  Women • Sportswear  ₹6 999.00   \n",
       "2   677    Adidas      Men • Football  ₹5 299.00   \n",
       "3   678    Adidas      Men • Football  ₹4 599.00   \n",
       "4   679    Adidas      Men • Training  ₹3 999.00   \n",
       "..  ...       ...                 ...        ...   \n",
       "91  766    Adidas   Women • Originals  ₹6 999.00   \n",
       "92  767    Adidas    Men • Basketball  ₹2 499.00   \n",
       "93  768    Adidas  Women • Sportswear  ₹2 499.00   \n",
       "94  769    Adidas     Men • Originals  ₹4 599.00   \n",
       "95  770    Adidas       Men • Running  ₹6 599.00   \n",
       "\n",
       "                                          ProductName            occasion  \\\n",
       "0                              PREMIUM ESSENTIALS TEE   Women • Originals   \n",
       "1               FUTURE ICONS 3-STRIPES OPEN HEM PANTS  Women • Sportswear   \n",
       "2                    INTER MIAMI CF 24/25 HOME JERSEY      Men • Football   \n",
       "3                           JUVENTUS PRE-MATCH JERSEY      Men • Football   \n",
       "4                                     D4T YOGA 7/8 PT      Men • Training   \n",
       "..                                                ...                 ...   \n",
       "91                    PREMIUM ESSENTIALS SHORT HOODIE   Women • Originals   \n",
       "92                        CITY FOUNDATION GRAPHIC TEE    Men • Basketball   \n",
       "93        ESSENTIALS 3-STRIPES SINGLE JERSEY CROP TOP  Women • Sportswear   \n",
       "94           ORIGINALS ADICOLOR 3-STRIPES SWIM SHORTS     Men • Originals   \n",
       "95  ULTIMATE RUNNING CONQUER THE ELEMENTS AEROREAD...       Men • Running   \n",
       "\n",
       "                                           returntime  \n",
       "0   Secure transactions with hassle free 14 days E...  \n",
       "1   Secure transactions with hassle free 14 days E...  \n",
       "2   Secure transactions with hassle free 14 days E...  \n",
       "3   Secure transactions with hassle free 14 days E...  \n",
       "4   Secure transactions with hassle free 14 days E...  \n",
       "..                                                ...  \n",
       "91  Secure transactions with hassle free 14 days E...  \n",
       "92  Secure transactions with hassle free 14 days E...  \n",
       "93  Secure transactions with hassle free 14 days E...  \n",
       "94  Secure transactions with hassle free 14 days E...  \n",
       "95  Secure transactions with hassle free 14 days E...  \n",
       "\n",
       "[96 rows x 7 columns]"
      ]
     },
     "execution_count": 15,
     "metadata": {},
     "output_type": "execute_result"
    }
   ],
   "source": [
    "import pandas as pd\n",
    "table1_6=pd.DataFrame({'SNo':Sno,'Brandname':Brandname,'Category':Category,'Price':Price,'ProductName':ProductName,'occasion':occasion,'returntime':returntime})\n",
    "#df=pd.DataFrame({'Category':Category,'ProductName':ProductName,'Price':Price})\n",
    "table1_6"
   ]
  },
  {
   "cell_type": "code",
   "execution_count": 16,
   "id": "eddf09b1",
   "metadata": {},
   "outputs": [],
   "source": [
    "table1_6.to_csv('D:\\\\clothingdata\\\\Table1\\\\table1_6.csv', index=False)"
   ]
  },
  {
   "cell_type": "code",
   "execution_count": 33,
   "id": "045672ff",
   "metadata": {},
   "outputs": [],
   "source": [
    "for i in apparel_url:\n",
    "    driver.get(i)\n",
    "    time.sleep(5)  # Ensure page is fully loaded\n",
    "\n",
    "    try:\n",
    "        # Wait for dropdown button to be clickable\n",
    "        dropdown_button = WebDriverWait(driver, 10).until(EC.element_to_be_clickable((By.XPATH, \"/html/body/div[2]/div/div[1]/div[1]/div/div/div[4]/div[1]/div[3]/section[2]/div/div/button/div[2]/span\")))\n",
    "        dropdown_button.click()\n",
    "\n",
    "        # Wait for \"Country of Origin\" element to be visible\n",
    "        Countryoforigin_tags = WebDriverWait(driver, 10).until(EC.visibility_of_element_located((By.XPATH, '/html/body/div[2]/div/div[1]/div[1]/div/div/div[4]/div[1]/div[3]/section[2]/div/div/div/div/div[2]/div/div/div[5]/div[2]/div')))\n",
    "\n",
    "        # Append text to list\n",
    "        Countryoforigin.append(Countryoforigin_tags.text)  \n",
    "    except NoSuchElementException:\n",
    "        Countryoforigin.append(None)"
   ]
  },
  {
   "cell_type": "code",
   "execution_count": 46,
   "id": "c434993f",
   "metadata": {},
   "outputs": [
    {
     "name": "stdout",
     "output_type": "stream",
     "text": [
      "['India', 'China', 'China']\n"
     ]
    }
   ],
   "source": [
    "print(Countryoforigin)"
   ]
  },
  {
   "cell_type": "code",
   "execution_count": 47,
   "id": "e98ce84f",
   "metadata": {},
   "outputs": [],
   "source": [
    "for i in apparel_url:\n",
    "    driver.get(i)\n",
    "    time.sleep(5)  # Ensure page is fully loaded\n",
    "\n",
    "    try:\n",
    "        # Wait for dropdown button to be clickable\n",
    "        dropdown_button = WebDriverWait(driver, 10).until(EC.element_to_be_clickable((By.XPATH,\"/html/body/div[2]/div/div[1]/div[1]/div/div/div[4]/div[1]/div[3]/section[2]/div/div/button/div[2]/span\")))\n",
    "        dropdown_button.click()\n",
    "\n",
    "        # Wait for \"Country of Origin\" element to be visible\n",
    "        material_tags = WebDriverWait(driver, 10).until(EC.visibility_of_element_located((By.XPATH,'//div[@class=\"accordion__content___29x9h\"]/div/div/ul/li[3]')))\n",
    "\n",
    "        # Append text to list\n",
    "        Materialtype.append(material_tags.text)  \n",
    "    except NoSuchElementException:\n",
    "        Materialtype.append(None)"
   ]
  },
  {
   "cell_type": "code",
   "execution_count": 49,
   "id": "1f84fc4d",
   "metadata": {},
   "outputs": [
    {
     "name": "stdout",
     "output_type": "stream",
     "text": [
      "['100% recycled polyester', '100% recycled polyester tricot', 'Sueded adidas logo on leg']\n"
     ]
    }
   ],
   "source": [
    "print(Materialtype)"
   ]
  },
  {
   "cell_type": "code",
   "execution_count": 50,
   "id": "8282254e",
   "metadata": {},
   "outputs": [],
   "source": [
    "for i in apparel_url:\n",
    "    driver.get(i)\n",
    "    time.sleep(10)  # Ensure page is fully loaded\n",
    "\n",
    "    try:\n",
    "        # Wait for dropdown button to be clickable\n",
    "        dropdown_button = WebDriverWait(driver, 15).until(EC.element_to_be_clickable((By.XPATH,'//button[@class=\"accordion__header___3Pii5\"]/div/div/div')))\n",
    "        dropdown_button.click()\n",
    "\n",
    "        # Wait for \"Country of Origin\" element to be visible\n",
    "        review_tags = WebDriverWait(driver, 10).until(EC.visibility_of_element_located((By.CLASS_NAME,\"rating___1z9bb\")))\n",
    "\n",
    "        # Append text to list\n",
    "        reviews.append(review_tags.text)  \n",
    "    except NoSuchElementException:\n",
    "        reviews.append(None)"
   ]
  },
  {
   "cell_type": "code",
   "execution_count": 51,
   "id": "87a0e133",
   "metadata": {},
   "outputs": [
    {
     "name": "stdout",
     "output_type": "stream",
     "text": [
      "['4.8', '4.7', '5.0']\n"
     ]
    }
   ],
   "source": [
    "print(reviews)"
   ]
  },
  {
   "cell_type": "code",
   "execution_count": 52,
   "id": "8f66dc1f",
   "metadata": {},
   "outputs": [],
   "source": [
    "for i in apparel_url:\n",
    "    driver.get(i)\n",
    "    time.sleep(5)  # Ensure page is fully loaded\n",
    "\n",
    "    try:\n",
    "        dropdown_button = WebDriverWait(driver, 10).until(EC.element_to_be_clickable((By.XPATH,\"/html/body/div[2]/div/div[1]/div[1]/div/div/div[4]/div[1]/div[3]/section[2]/div/div/button/div[2]/span\")))\n",
    "        dropdown_button.click()\n",
    "        productcode_tag = WebDriverWait(driver, 20).until(EC.presence_of_element_located((By.XPATH,'//*[contains(@class, \"gl-list\")][2]')))\n",
    "        Productcode.append(productcode_tag.text)  \n",
    "    except NoSuchElementException:\n",
    "        Productcode.append(None)"
   ]
  },
  {
   "cell_type": "code",
   "execution_count": 53,
   "id": "5397b544",
   "metadata": {},
   "outputs": [
    {
     "data": {
      "text/plain": [
       "['3 stripes on the shoulder\\nAEROREADY\\nColour: Bright Blue\\nProduct code: JI6696',\n",
       " 'Droptail hem\\nReal Madrid embroidered crest\\n\"¡Hala Madrid!\" on back collar\\nColour: White\\nProduct code: HR3796',\n",
       " 'Side seam pockets with perforated four-way stretch lining\\nSueded black bar label on centre front\\nColour: Clay\\nProduct code: IS8704']"
      ]
     },
     "execution_count": 53,
     "metadata": {},
     "output_type": "execute_result"
    }
   ],
   "source": [
    "Productcode"
   ]
  },
  {
   "cell_type": "code",
   "execution_count": 54,
   "id": "a919495e",
   "metadata": {},
   "outputs": [],
   "source": [
    "for i in apparel_url:\n",
    "    driver.get(i)\n",
    "    time.sleep(5)  # Ensure page is fully loaded\n",
    "\n",
    "    try:\n",
    "        # Wait for dropdown button to be clickable\n",
    "        dropdown_button = WebDriverWait(driver, 10).until(EC.element_to_be_clickable((By.XPATH,\"/html/body/div[2]/div/div[1]/div[1]/div/div/div[4]/div[1]/div[3]/section[2]/div/div/button/div[2]/span\")))\n",
    "        dropdown_button.click()\n",
    "\n",
    "        # Wait for the product code element\n",
    "        productcode_tag = WebDriverWait(driver, 20).until(EC.presence_of_element_located((By.XPATH,'//*[contains(@class, \"gl-list\")][2]')))\n",
    "\n",
    "        # Extract and process the text\n",
    "        text = productcode_tag.text\n",
    "        # Split the text by '\\n' to get individual lines\n",
    "        lines = text.split('\\n')\n",
    "        # Get the last line\n",
    "        last_line = lines[-1]\n",
    "        # Get the text after the last ':'\n",
    "        last_colon_text = last_line.split(':')[-1].strip()\n",
    "        \n",
    "        # Append processed text to list\n",
    "        Productcode.append(last_colon_text)\n",
    "    except NoSuchElementException:\n",
    "        Productcode.append(None)\n"
   ]
  },
  {
   "cell_type": "code",
   "execution_count": 55,
   "id": "ee865ff0",
   "metadata": {},
   "outputs": [
    {
     "data": {
      "text/plain": [
       "['3 stripes on the shoulder\\nAEROREADY\\nColour: Bright Blue\\nProduct code: JI6696',\n",
       " 'Droptail hem\\nReal Madrid embroidered crest\\n\"¡Hala Madrid!\" on back collar\\nColour: White\\nProduct code: HR3796',\n",
       " 'Side seam pockets with perforated four-way stretch lining\\nSueded black bar label on centre front\\nColour: Clay\\nProduct code: IS8704',\n",
       " 'JI6696',\n",
       " 'HR3796',\n",
       " 'IS8704']"
      ]
     },
     "execution_count": 55,
     "metadata": {},
     "output_type": "execute_result"
    }
   ],
   "source": [
    "Productcode"
   ]
  },
  {
   "cell_type": "code",
   "execution_count": 56,
   "id": "4bd27bfe",
   "metadata": {},
   "outputs": [],
   "source": [
    "color=[]\n",
    "for i in apparel_url:\n",
    "    driver.get(i)\n",
    "    time.sleep(5)  # Ensure page is fully loaded\n",
    "\n",
    "    try:\n",
    "        # Wait for dropdown button to be clickable\n",
    "        dropdown_button = WebDriverWait(driver, 10).until(EC.element_to_be_clickable((By.XPATH,\"/html/body/div[2]/div/div[1]/div[1]/div/div/div[4]/div[1]/div[3]/section[2]/div/div/button/div[2]/span\")))\n",
    "        dropdown_button.click()\n",
    "\n",
    "        # Wait for the product code element\n",
    "        color_tag = WebDriverWait(driver, 20).until(EC.presence_of_element_located((By.XPATH,'//*[contains(@class, \"gl-list\")][2]')))\n",
    "\n",
    "        # Extract and process the text\n",
    "        text = color_tag.text\n",
    "        # Split the text by '\\n' to get individual lines\n",
    "        lines = text.split('\\n')\n",
    "        # Get the last line\n",
    "        last_line = lines[-2]\n",
    "        # Get the text after the last ':'\n",
    "        last_colon_text = last_line.split(':')[-1].strip()\n",
    "        \n",
    "        # Append processed text to list\n",
    "        color.append(last_colon_text)\n",
    "    except NoSuchElementException:\n",
    "        color.append(None)"
   ]
  },
  {
   "cell_type": "code",
   "execution_count": 57,
   "id": "5a32510f",
   "metadata": {},
   "outputs": [
    {
     "data": {
      "text/plain": [
       "['Bright Blue', 'White', 'Clay']"
      ]
     },
     "execution_count": 57,
     "metadata": {},
     "output_type": "execute_result"
    }
   ],
   "source": [
    "color"
   ]
  },
  {
   "cell_type": "code",
   "execution_count": 86,
   "id": "f996acfc",
   "metadata": {},
   "outputs": [],
   "source": [
    "for i in apparel_url:\n",
    "    driver.get(i)\n",
    "    time.sleep(5) \n",
    "\n",
    "    try:\n",
    "        \n",
    "        returntime_tags = WebDriverWait(driver, 10).until(EC.visibility_of_element_located((By.XPATH,\"/html/body/div[2]/div/div[1]/div[1]/div/div/div[4]/div[2]/div[2]/section/div[5]/div[4]/div/div[2]/div/a\")))\n",
    "        #return_tag = WebDriverWait(driver, 20).until(EC.presence_of_element_located((By.XPATH,'//*[contains(@class, \"gl-list\")][2]')))\n",
    "        returntime.append(returntime_tags.text)  \n",
    "    except NoSuchElementException:\n",
    "        returntime.append(None)"
   ]
  },
  {
   "cell_type": "code",
   "execution_count": 101,
   "id": "38f2bcd1",
   "metadata": {},
   "outputs": [
    {
     "data": {
      "text/plain": [
       "['Secure transactions with hassle free 14 days Exchange and Returns',\n",
       " 'Secure transactions with hassle free 14 days Exchange and Returns',\n",
       " 'Secure transactions with hassle free 14 days Exchange and Returns']"
      ]
     },
     "execution_count": 101,
     "metadata": {},
     "output_type": "execute_result"
    }
   ],
   "source": [
    "returntime"
   ]
  },
  {
   "cell_type": "code",
   "execution_count": 61,
   "id": "edef07ff",
   "metadata": {},
   "outputs": [
    {
     "name": "stdout",
     "output_type": "stream",
     "text": [
      "['14', '14', '14']\n"
     ]
    }
   ],
   "source": [
    "returntime_days = [item.split(' ')[-5] for item in returntime]\n",
    "\n",
    "# Print cleaned list\n",
    "print(returntime_days)\n"
   ]
  },
  {
   "cell_type": "code",
   "execution_count": 62,
   "id": "eca95648",
   "metadata": {},
   "outputs": [],
   "source": [
    "for i in apparel_url:  # iterating each and every url to fetch full job details\n",
    "    driver.get(i)\n",
    "    time.sleep(5)\n",
    "    try:\n",
    "        # Corrected CSS selector and used proper quotes around attribute value\n",
    "        category_tags = driver.find_element(By.XPATH, '/html/body/div[2]/div/div[1]/div[1]/div/div/div[4]/div[2]/div[2]/div[1]/div[1]/div/span')\n",
    "        Category.append(category_tags.text)  # Append the extracted text to the color1 list\n",
    "    except NoSuchElementException:\n",
    "        Category.append(None)"
   ]
  },
  {
   "cell_type": "code",
   "execution_count": 63,
   "id": "5333aa13",
   "metadata": {},
   "outputs": [
    {
     "name": "stdout",
     "output_type": "stream",
     "text": [
      "['Men • Cricket', 'Men • Football', 'Men • Fear of God Athletics']\n"
     ]
    }
   ],
   "source": [
    "print(Category)"
   ]
  },
  {
   "cell_type": "code",
   "execution_count": 64,
   "id": "553561c3",
   "metadata": {},
   "outputs": [
    {
     "name": "stdout",
     "output_type": "stream",
     "text": [
      "['Men', 'Men', 'Men']\n"
     ]
    }
   ],
   "source": [
    "Category1 = [word for sample in Category for word in sample.split() if word == 'Men' or word == 'Women']\n",
    "print(Category1)"
   ]
  },
  {
   "cell_type": "code",
   "execution_count": 65,
   "id": "505582cf",
   "metadata": {},
   "outputs": [],
   "source": [
    "sizes=[]\n",
    "for i in apparel_url:  # iterating each and every url to fetch full job details\n",
    "    driver.get(i)\n",
    "    time.sleep(5)\n",
    "    try:\n",
    "        # Corrected CSS selector and used proper quotes around attribute value\n",
    "        sizes_tags = driver.find_element(By.XPATH, '/html/body/div[2]/div/div[1]/div[1]/div/div/div[4]/div[2]/div[2]/section/div[1]')\n",
    "        sizes.append(sizes_tags.text)  # Append the extracted text to the color1 list\n",
    "    except NoSuchElementException:\n",
    "        sizes.append(None)"
   ]
  },
  {
   "cell_type": "code",
   "execution_count": 66,
   "id": "a9d777ac",
   "metadata": {},
   "outputs": [
    {
     "data": {
      "text/plain": [
       "['Sizes\\nXS\\nS\\nM\\nL\\nXL\\n2XL\\n3XL',\n",
       " 'Sizes\\nXS\\nS\\nM\\nL\\nXL\\n2XL\\n3XL',\n",
       " 'Sizes\\n2XS\\nXS\\nS\\nM\\nL\\nXL\\n2XL']"
      ]
     },
     "execution_count": 66,
     "metadata": {},
     "output_type": "execute_result"
    }
   ],
   "source": [
    "sizes"
   ]
  },
  {
   "cell_type": "code",
   "execution_count": 67,
   "id": "ed9adbc3",
   "metadata": {},
   "outputs": [
    {
     "name": "stdout",
     "output_type": "stream",
     "text": [
      "[['XS', 'S', 'M', 'L', 'XL', '2XL', '3XL'], ['XS', 'S', 'M', 'L', 'XL', '2XL', '3XL'], ['2XS', 'XS', 'S', 'M', 'L', 'XL', '2XL']]\n"
     ]
    }
   ],
   "source": [
    "separate_lists = []\n",
    "\n",
    "for item in sizes:\n",
    "    # Split the string by '\\n' and discard the first element (which is \"Sizes\")\n",
    "    text_after_sizes = item.split('\\n')[1:]\n",
    "    separate_lists.append(text_after_sizes)\n",
    "\n",
    "print(separate_lists)"
   ]
  },
  {
   "cell_type": "code",
   "execution_count": 68,
   "id": "5df96e59",
   "metadata": {},
   "outputs": [
    {
     "name": "stdout",
     "output_type": "stream",
     "text": [
      "Size 1: ['XS', 'XS', '2XS']\n",
      "Size 2: ['S', 'S', 'XS']\n",
      "Size 3: ['M', 'M', 'S']\n",
      "Size 4: ['L', 'L', 'M']\n"
     ]
    }
   ],
   "source": [
    "size1 = []\n",
    "size2 = []\n",
    "size3 = []\n",
    "size4 = []\n",
    "\n",
    "# Iterate over each sub-list and assign elements to separate lists\n",
    "for sublist in separate_lists:\n",
    "    size1.append(sublist[0])\n",
    "    size2.append(sublist[1])\n",
    "    size3.append(sublist[2])\n",
    "    size4.append(sublist[3])\n",
    "\n",
    "print(\"Size 1:\", size1)\n",
    "print(\"Size 2:\", size2)\n",
    "print(\"Size 3:\", size3)\n",
    "print(\"Size 4:\", size4)"
   ]
  },
  {
   "cell_type": "code",
   "execution_count": 69,
   "id": "62383bf5",
   "metadata": {},
   "outputs": [
    {
     "data": {
      "text/plain": [
       "['XS', 'XS', '2XS']"
      ]
     },
     "execution_count": 69,
     "metadata": {},
     "output_type": "execute_result"
    }
   ],
   "source": [
    "size1"
   ]
  },
  {
   "cell_type": "code",
   "execution_count": 70,
   "id": "f7f349e3",
   "metadata": {},
   "outputs": [
    {
     "data": {
      "text/plain": [
       "['S', 'S', 'XS']"
      ]
     },
     "execution_count": 70,
     "metadata": {},
     "output_type": "execute_result"
    }
   ],
   "source": [
    "size2"
   ]
  },
  {
   "cell_type": "code",
   "execution_count": 71,
   "id": "3825db79",
   "metadata": {},
   "outputs": [],
   "source": [
    "ProductName=[]\n",
    "for i in apparel_url:  # iterating each and every url to fetch full job details\n",
    "    driver.get(i)\n",
    "    time.sleep(5)\n",
    "    try:\n",
    "        # Corrected CSS selector and used proper quotes around attribute value\n",
    "        productname_tags = driver.find_element(By.XPATH, '/html/body/div[2]/div/div[1]/div[1]/div/div/div[4]/div[2]/div[2]/div[1]/h1')\n",
    "        ProductName.append(productname_tags.text)  # Append the extracted text to the color1 list\n",
    "    except NoSuchElementException:\n",
    "        ProductName.append(None)"
   ]
  },
  {
   "cell_type": "code",
   "execution_count": 72,
   "id": "27e82aba",
   "metadata": {},
   "outputs": [
    {
     "data": {
      "text/plain": [
       "['INDIA CRICKET ODI FAN JERSEY',\n",
       " 'REAL MADRID 23/24 HOME JERSEY',\n",
       " 'FEAR OF GOD ATHLETICS SUEDE FLEECE SHORTS']"
      ]
     },
     "execution_count": 72,
     "metadata": {},
     "output_type": "execute_result"
    }
   ],
   "source": [
    "ProductName"
   ]
  },
  {
   "cell_type": "code",
   "execution_count": 73,
   "id": "5a9c9997",
   "metadata": {},
   "outputs": [],
   "source": [
    "Colors=[]\n",
    "for i in apparel_url:  # iterating each and every url to fetch full job details\n",
    "    driver.get(i)\n",
    "    time.sleep(5)\n",
    "    try:\n",
    "        # Corrected CSS selector and used proper quotes around attribute value\n",
    "        colors_tags = driver.find_element(By.XPATH, '/html/body/div[2]/div/div[1]/div[1]/div/div/div[4]/div[2]/div[2]/div[2]')\n",
    "        Colors.append(colors_tags.text)  # Append the extracted text to the color1 list\n",
    "    except NoSuchElementException:\n",
    "        Colors.append(None)"
   ]
  },
  {
   "cell_type": "code",
   "execution_count": 74,
   "id": "35c61ead",
   "metadata": {},
   "outputs": [
    {
     "data": {
      "text/plain": [
       "['Bright Blue', 'White', 'Colours\\nClay']"
      ]
     },
     "execution_count": 74,
     "metadata": {},
     "output_type": "execute_result"
    }
   ],
   "source": [
    "Colors"
   ]
  },
  {
   "cell_type": "code",
   "execution_count": 75,
   "id": "00e3a6bb",
   "metadata": {},
   "outputs": [],
   "source": [
    "occasion=[]\n",
    "for i in apparel_url:  # iterating each and every url to fetch full job details\n",
    "    driver.get(i)\n",
    "    time.sleep(5)\n",
    "    try:\n",
    "        # Corrected CSS selector and used proper quotes around attribute value\n",
    "        occasion_tags = driver.find_element(By.XPATH, '/html/body/div[2]/div/div[1]/div[1]/div/div/div[4]/div[2]/div[2]/div[1]/div[1]/div/span')\n",
    "        occasion.append(occasion_tags.text)  # Append the extracted text to the color1 list\n",
    "    except NoSuchElementException:\n",
    "        occasion.append(None)"
   ]
  },
  {
   "cell_type": "code",
   "execution_count": 76,
   "id": "0ae3bee9",
   "metadata": {},
   "outputs": [
    {
     "data": {
      "text/plain": [
       "['Men • Cricket', 'Men • Football', 'Men • Fear of God Athletics']"
      ]
     },
     "execution_count": 76,
     "metadata": {},
     "output_type": "execute_result"
    }
   ],
   "source": [
    "occasion"
   ]
  },
  {
   "cell_type": "code",
   "execution_count": 77,
   "id": "abf8f309",
   "metadata": {},
   "outputs": [
    {
     "name": "stdout",
     "output_type": "stream",
     "text": [
      "['Cricket', 'Football', 'Fear of God Athletics']\n"
     ]
    }
   ],
   "source": [
    "updated_list = [item.split('•')[1].strip() for item in occasion]\n",
    "print(updated_list)"
   ]
  },
  {
   "cell_type": "code",
   "execution_count": 78,
   "id": "e8beaf45",
   "metadata": {},
   "outputs": [],
   "source": [
    "producttype=[]\n",
    "for i in apparel_url:\n",
    "    driver.get(i)\n",
    "    time.sleep(10)  # Ensure page is fully loaded\n",
    "\n",
    "    try:\n",
    "        # Wait for dropdown button to be clickable\n",
    "        dropdown_button = WebDriverWait(driver, 10).until(EC.element_to_be_clickable((By.XPATH,\"/html/body/div[2]/div/div[1]/div[1]/div/div/div[4]/div[1]/div[3]/section[2]/div/div/button/div[2]/span\")))\n",
    "        dropdown_button.click()\n",
    "\n",
    "        # Wait for \"Country of Origin\" element to be visible\n",
    "        producttype_tags = WebDriverWait(driver, 10).until(EC.visibility_of_element_located((By.XPATH,'//div[@class=\"accordion__content___29x9h\"]/div/div/ul/li[1]')))\n",
    "\n",
    "        # Append text to list\n",
    "        producttype.append(producttype_tags.text)  \n",
    "    except NoSuchElementException:\n",
    "        producttype.append(None)"
   ]
  },
  {
   "cell_type": "code",
   "execution_count": 79,
   "id": "392d14b4",
   "metadata": {},
   "outputs": [
    {
     "data": {
      "text/plain": [
       "['Regular fit', 'Slim fit', 'Relaxed fit in seat and leg']"
      ]
     },
     "execution_count": 79,
     "metadata": {},
     "output_type": "execute_result"
    }
   ],
   "source": [
    "producttype"
   ]
  },
  {
   "cell_type": "code",
   "execution_count": 164,
   "id": "dcfb7aaf",
   "metadata": {},
   "outputs": [
    {
     "name": "stdout",
     "output_type": "stream",
     "text": [
      "['bottomwear CRICKET ODI FAN topwear', 'REAL MADRID 23/24 HOME topwear', 'bottomwear CRICKET TRI COLOR topwear WITH 2 STARS MEN']\n"
     ]
    }
   ],
   "source": [
    "Original list\n",
    "original_list = ['INDIA CRICKET ODI FAN JERSEY',\n",
    "                 #'REAL MADRID 23/24 HOME JERSEY',\n",
    "                 #'INDIA CRICKET TRI COLOR JERSEY WITH 2 STARS MEN']\n",
    "\n",
    "# Replace \"JERSEY\" with \"topwear\" and \"INDIA\" with \"bottomwear\"\n",
    "updated_list = []\n",
    "for item in original_list:\n",
    "    if 'JERSEY' in item:\n",
    "        item = item.replace('JERSEY', 'topwear')\n",
    "    if 'INDIA' in item:\n",
    "        item = item.replace('INDIA', 'bottomwear')\n",
    "    updated_list.append(item)\n",
    "\n",
    "print(updated_list)\n"
   ]
  },
  {
   "cell_type": "code",
   "execution_count": 80,
   "id": "8ee01dd4",
   "metadata": {},
   "outputs": [
    {
     "name": "stdout",
     "output_type": "stream",
     "text": [
      "['bottomwear', 'topwear', 'bottomwear']\n"
     ]
    }
   ],
   "source": [
    "original_list = ['bottomwear CRICKET ODI FAN topwear',\n",
    "                 'REAL MADRID 23/24 HOME topwear',\n",
    "                 'bottomwear CRICKET TRI COLOR topwear WITH 2 STARS MEN']\n",
    "\n",
    "# Replace elements with \"topwear\" or \"bottomwear\" based on presence of keywords\n",
    "updated_list = []\n",
    "for item in original_list:\n",
    "    if 'CRICKET' in item or 'FOOTBALL' in item:  # Check for sports keywords\n",
    "        updated_list.append('bottomwear')\n",
    "    else:\n",
    "        updated_list.append('topwear')\n",
    "\n",
    "print(updated_list)"
   ]
  },
  {
   "cell_type": "code",
   "execution_count": 17,
   "id": "351832ef",
   "metadata": {},
   "outputs": [
    {
     "name": "stdout",
     "output_type": "stream",
     "text": [
      "['topwear', 'topwear', 'bottomwear']\n"
     ]
    }
   ],
   "source": [
    "ProductName = ['INDIA CRICKET ODI FAN JERSEY',\n",
    " 'REAL MADRID 23/24 HOME JERSEY',\n",
    " 'FEAR OF GOD ATHLETICS SUEDE FLEECE SHORTS']\n",
    "\n",
    "# Replace elements with \"topwear\" or \"bottomwear\" based on presence of keywords\n",
    "Weartype = []\n",
    "for item in ProductName:\n",
    "    if 'JERSEY' in item:  # Check for sports keywords\n",
    "        Weartype.append('topwear')\n",
    "    else:\n",
    "        Weartype.append('bottomwear')\n",
    "\n",
    "print(Weartype)"
   ]
  },
  {
   "cell_type": "markdown",
   "id": "2425533b",
   "metadata": {},
   "source": [
    "# fgfg"
   ]
  },
  {
   "cell_type": "code",
   "execution_count": null,
   "id": "b12e8a96",
   "metadata": {},
   "outputs": [],
   "source": []
  }
 ],
 "metadata": {
  "kernelspec": {
   "display_name": "Python 3 (ipykernel)",
   "language": "python",
   "name": "python3"
  },
  "language_info": {
   "codemirror_mode": {
    "name": "ipython",
    "version": 3
   },
   "file_extension": ".py",
   "mimetype": "text/x-python",
   "name": "python",
   "nbconvert_exporter": "python",
   "pygments_lexer": "ipython3",
   "version": "3.9.13"
  }
 },
 "nbformat": 4,
 "nbformat_minor": 5
}
