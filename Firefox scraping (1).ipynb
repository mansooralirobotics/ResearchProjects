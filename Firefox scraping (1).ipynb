{
 "cells": [
  {
   "cell_type": "code",
   "execution_count": 18,
   "id": "c4b08615",
   "metadata": {},
   "outputs": [],
   "source": [
    "import selenium \n",
    "import pandas as pd\n",
    "from selenium import webdriver\n",
    "import warnings\n",
    "warnings.filterwarnings('ignore')\n",
    "from selenium.webdriver.common.by import By \n",
    "import time \n",
    "from selenium.webdriver.support.ui import WebDriverWait\n",
    "from selenium.common.exceptions import StaleElementReferenceException,NoSuchElementException,ElementNotInteractableException\n",
    "from selenium.webdriver.support import expected_conditions as EC\n",
    "from selenium.webdriver.common.keys import Keys"
   ]
  },
  {
   "cell_type": "code",
   "execution_count": 19,
   "id": "364f0a74",
   "metadata": {},
   "outputs": [],
   "source": [
    "driver=webdriver.Firefox()"
   ]
  },
  {
   "cell_type": "code",
   "execution_count": 3,
   "id": "6005fbc2",
   "metadata": {},
   "outputs": [],
   "source": [
    "driver.get(\" https://www.adidas.co.in/\")"
   ]
  },
  {
   "cell_type": "code",
   "execution_count": 4,
   "id": "522163d3",
   "metadata": {},
   "outputs": [],
   "source": [
    "search=driver.find_element(By.XPATH,'/html/body/div[1]/div[2]/div[2]/div/header/div[2]/div/div[2]/div/input')\n",
    "time.sleep(5)"
   ]
  },
  {
   "cell_type": "code",
   "execution_count": 5,
   "id": "479c61ea",
   "metadata": {},
   "outputs": [],
   "source": [
    "search.click()"
   ]
  },
  {
   "cell_type": "code",
   "execution_count": 6,
   "id": "7bfab236",
   "metadata": {},
   "outputs": [],
   "source": [
    "search.send_keys('apparel')\n",
    "time.sleep(5)"
   ]
  },
  {
   "cell_type": "code",
   "execution_count": 7,
   "id": "d58d15f1",
   "metadata": {},
   "outputs": [],
   "source": [
    "search.send_keys(Keys.ENTER)"
   ]
  },
  {
   "cell_type": "code",
   "execution_count": 8,
   "id": "26ee776b",
   "metadata": {},
   "outputs": [],
   "source": [
    "try:\n",
    "    \n",
    "    element = WebDriverWait(driver, 10).until(\n",
    "        EC.presence_of_element_located((By.XPATH, '/html/body/div[2]/div/div[1]/div[1]/div/div/div[4]/div/div[2]/div/div/div[1]/div[1]/div/div/div/div[1]/div/div[2]/div[1]/span[1]'))\n",
    "    )\n",
    "    \n",
    "    element.click()\n",
    "\n",
    "except ElementNotInteractableException as e:\n",
    "    print(\"Element is not interactable:\", e)"
   ]
  },
  {
   "cell_type": "code",
   "execution_count": 9,
   "id": "e4e769d9",
   "metadata": {},
   "outputs": [],
   "source": [
    "try:\n",
    "    \n",
    "    element = WebDriverWait(driver, 10).until(\n",
    "        EC.presence_of_element_located((By.XPATH, '/html/body/div[2]/div/div[1]/div[1]/div/div/div[4]/div/div[2]/div/div/div[1]/div[1]/div/div/div/div[1]/div/div[2]/div[2]/div/ul/li[12]/a/div/div/label/input'))\n",
    "    )\n",
    "    \n",
    "    element.click()\n",
    "\n",
    "except ElementNotInteractableException as e:\n",
    "    print(\"Element is not interactable:\", e)"
   ]
  },
  {
   "cell_type": "code",
   "execution_count": 10,
   "id": "68b0fd76",
   "metadata": {},
   "outputs": [],
   "source": [
    "apparel_url = []\n",
    "start = 0\n",
    "end = 1\n",
    "urls_per_page_limit = 3  # Limiting the URLs processed to three per page\n",
    "\n",
    "for page in range(start, end):\n",
    "    urls = driver.find_elements(By.XPATH, '//a[@class=\"glass-product-card__assets-link\"]')\n",
    "    counter = 0  # Initialize counter variable\n",
    "    for url in urls:\n",
    "        if counter < urls_per_page_limit:\n",
    "            apparel_url.append(url.get_attribute('href'))\n",
    "            counter += 1  # Increment counter after appending URL\n",
    "        else:\n",
    "            break  # Exit the loop if the counter reaches the limit"
   ]
  },
  {
   "cell_type": "code",
   "execution_count": 11,
   "id": "035b719e",
   "metadata": {},
   "outputs": [
    {
     "name": "stdout",
     "output_type": "stream",
     "text": [
      "3\n"
     ]
    }
   ],
   "source": [
    "print(len(apparel_url))"
   ]
  },
  {
   "cell_type": "code",
   "execution_count": 12,
   "id": "ea48fb9f",
   "metadata": {},
   "outputs": [
    {
     "data": {
      "text/plain": [
       "['https://www.adidas.co.in/india-cricket-odi-fan--jersey/JI6696.html',\n",
       " 'https://www.adidas.co.in/real-madrid-23-24-home-jersey/HR3796.html',\n",
       " 'https://www.adidas.co.in/fear-of-god-athletics-suede-fleece-shorts/IS8704.html']"
      ]
     },
     "execution_count": 12,
     "metadata": {},
     "output_type": "execute_result"
    }
   ],
   "source": [
    "apparel_url"
   ]
  },
  {
   "cell_type": "code",
   "execution_count": 15,
   "id": "b9fb53ce",
   "metadata": {},
   "outputs": [],
   "source": [
    "#Sno=[]\n",
    "#Brandname=[]\n",
    "#Category=[]\n",
    "#Producttype=[]\n",
    "#ProductName=[]\n",
    "#Productcode=[]\n",
    "#Price=[]\n",
    "#color1=[]\n",
    "#color2=[]\n",
    "#color3=[]\n",
    "#color4=[]\n",
    "Weartype=[]   \n",
    "#Materialtype=[]\n",
    "#reviews=[]\n",
    "#Size1=[] \n",
    "#Size2=[] \n",
    "#Size3=[] \n",
    "#Size4=[] \n",
    "#Countryoforigin=[]\n",
    "#returntime=[]   \n",
    "occasion=[]  "
   ]
  },
  {
   "cell_type": "code",
   "execution_count": 41,
   "id": "0ed472e0",
   "metadata": {},
   "outputs": [],
   "source": [
    "Price=[]\n",
    "counter = 0\n",
    "for i in apparel_url:  # iterating each and every url to fetch full job details\n",
    "    driver.get(i)\n",
    "    time.sleep(5)\n",
    "    try:\n",
    "        price_tags = driver.find_element(By.XPATH,'/html/body/div[2]/div/div[1]/div[1]/div/div/div[4]/div[2]/div[2]/div[1]/div[2]/div/div/div/div')\n",
    "        Price.append(price_tags.text)  # Append the extracted text to the Price list\n",
    "    except NoSuchElementException:\n",
    "        Price.append(None)\n",
    "    counter += 1\n",
    "    Sno.append(counter)\n",
    "    Brandname.append('Adidas')"
   ]
  },
  {
   "cell_type": "code",
   "execution_count": 42,
   "id": "3788ee93",
   "metadata": {},
   "outputs": [
    {
     "name": "stdout",
     "output_type": "stream",
     "text": [
      "['₹999.00', '₹5 299.00', '₹18 999.00']\n"
     ]
    }
   ],
   "source": [
    "print(Price)"
   ]
  },
  {
   "cell_type": "code",
   "execution_count": 43,
   "id": "bef2bb36",
   "metadata": {},
   "outputs": [
    {
     "name": "stdout",
     "output_type": "stream",
     "text": [
      "[1, 2, 3]\n"
     ]
    }
   ],
   "source": [
    "print(Sno)"
   ]
  },
  {
   "cell_type": "code",
   "execution_count": 44,
   "id": "b2770fe7",
   "metadata": {},
   "outputs": [
    {
     "name": "stdout",
     "output_type": "stream",
     "text": [
      "['Adidas', 'Adidas', 'Adidas']\n"
     ]
    }
   ],
   "source": [
    "print(Brandname)"
   ]
  },
  {
   "cell_type": "code",
   "execution_count": 45,
   "id": "045672ff",
   "metadata": {},
   "outputs": [],
   "source": [
    "for i in apparel_url:\n",
    "    driver.get(i)\n",
    "    time.sleep(5)  # Ensure page is fully loaded\n",
    "\n",
    "    try:\n",
    "        # Wait for dropdown button to be clickable\n",
    "        dropdown_button = WebDriverWait(driver, 10).until(EC.element_to_be_clickable((By.XPATH, \"/html/body/div[2]/div/div[1]/div[1]/div/div/div[4]/div[1]/div[3]/section[2]/div/div/button/div[2]/span\")))\n",
    "        dropdown_button.click()\n",
    "\n",
    "        # Wait for \"Country of Origin\" element to be visible\n",
    "        Countryoforigin_tags = WebDriverWait(driver, 10).until(EC.visibility_of_element_located((By.XPATH, '/html/body/div[2]/div/div[1]/div[1]/div/div/div[4]/div[1]/div[3]/section[2]/div/div/div/div/div[2]/div/div/div[5]/div[2]/div')))\n",
    "\n",
    "        # Append text to list\n",
    "        Countryoforigin.append(Countryoforigin_tags.text)  \n",
    "    except NoSuchElementException:\n",
    "        Countryoforigin.append(None)"
   ]
  },
  {
   "cell_type": "code",
   "execution_count": 46,
   "id": "c434993f",
   "metadata": {},
   "outputs": [
    {
     "name": "stdout",
     "output_type": "stream",
     "text": [
      "['India', 'China', 'China']\n"
     ]
    }
   ],
   "source": [
    "print(Countryoforigin)"
   ]
  },
  {
   "cell_type": "code",
   "execution_count": 47,
   "id": "e98ce84f",
   "metadata": {},
   "outputs": [],
   "source": [
    "for i in apparel_url:\n",
    "    driver.get(i)\n",
    "    time.sleep(5)  # Ensure page is fully loaded\n",
    "\n",
    "    try:\n",
    "        # Wait for dropdown button to be clickable\n",
    "        dropdown_button = WebDriverWait(driver, 10).until(EC.element_to_be_clickable((By.XPATH,\"/html/body/div[2]/div/div[1]/div[1]/div/div/div[4]/div[1]/div[3]/section[2]/div/div/button/div[2]/span\")))\n",
    "        dropdown_button.click()\n",
    "\n",
    "        # Wait for \"Country of Origin\" element to be visible\n",
    "        material_tags = WebDriverWait(driver, 10).until(EC.visibility_of_element_located((By.XPATH,'//div[@class=\"accordion__content___29x9h\"]/div/div/ul/li[3]')))\n",
    "\n",
    "        # Append text to list\n",
    "        Materialtype.append(material_tags.text)  \n",
    "    except NoSuchElementException:\n",
    "        Materialtype.append(None)"
   ]
  },
  {
   "cell_type": "code",
   "execution_count": 49,
   "id": "1f84fc4d",
   "metadata": {},
   "outputs": [
    {
     "name": "stdout",
     "output_type": "stream",
     "text": [
      "['100% recycled polyester', '100% recycled polyester tricot', 'Sueded adidas logo on leg']\n"
     ]
    }
   ],
   "source": [
    "print(Materialtype)"
   ]
  },
  {
   "cell_type": "code",
   "execution_count": 50,
   "id": "8282254e",
   "metadata": {},
   "outputs": [],
   "source": [
    "for i in apparel_url:\n",
    "    driver.get(i)\n",
    "    time.sleep(10)  # Ensure page is fully loaded\n",
    "\n",
    "    try:\n",
    "        # Wait for dropdown button to be clickable\n",
    "        dropdown_button = WebDriverWait(driver, 15).until(EC.element_to_be_clickable((By.XPATH,'//button[@class=\"accordion__header___3Pii5\"]/div/div/div')))\n",
    "        dropdown_button.click()\n",
    "\n",
    "        # Wait for \"Country of Origin\" element to be visible\n",
    "        review_tags = WebDriverWait(driver, 10).until(EC.visibility_of_element_located((By.CLASS_NAME,\"rating___1z9bb\")))\n",
    "\n",
    "        # Append text to list\n",
    "        reviews.append(review_tags.text)  \n",
    "    except NoSuchElementException:\n",
    "        reviews.append(None)"
   ]
  },
  {
   "cell_type": "code",
   "execution_count": 51,
   "id": "87a0e133",
   "metadata": {},
   "outputs": [
    {
     "name": "stdout",
     "output_type": "stream",
     "text": [
      "['4.8', '4.7', '5.0']\n"
     ]
    }
   ],
   "source": [
    "print(reviews)"
   ]
  },
  {
   "cell_type": "code",
   "execution_count": 52,
   "id": "8f66dc1f",
   "metadata": {},
   "outputs": [],
   "source": [
    "for i in apparel_url:\n",
    "    driver.get(i)\n",
    "    time.sleep(5)  # Ensure page is fully loaded\n",
    "\n",
    "    try:\n",
    "        # Wait for dropdown button to be clickable\n",
    "        dropdown_button = WebDriverWait(driver, 10).until(EC.element_to_be_clickable((By.XPATH,\"/html/body/div[2]/div/div[1]/div[1]/div/div/div[4]/div[1]/div[3]/section[2]/div/div/button/div[2]/span\")))\n",
    "        dropdown_button.click()\n",
    "\n",
    "       \n",
    "        productcode_tag = WebDriverWait(driver, 20).until(EC.presence_of_element_located((By.XPATH,'//*[contains(@class, \"gl-list\")][2]')))\n",
    "\n",
    "        # Append text to list\n",
    "        Productcode.append(productcode_tag.text)  \n",
    "    except NoSuchElementException:\n",
    "        Productcode.append(None)"
   ]
  },
  {
   "cell_type": "code",
   "execution_count": 53,
   "id": "5397b544",
   "metadata": {},
   "outputs": [
    {
     "data": {
      "text/plain": [
       "['3 stripes on the shoulder\\nAEROREADY\\nColour: Bright Blue\\nProduct code: JI6696',\n",
       " 'Droptail hem\\nReal Madrid embroidered crest\\n\"¡Hala Madrid!\" on back collar\\nColour: White\\nProduct code: HR3796',\n",
       " 'Side seam pockets with perforated four-way stretch lining\\nSueded black bar label on centre front\\nColour: Clay\\nProduct code: IS8704']"
      ]
     },
     "execution_count": 53,
     "metadata": {},
     "output_type": "execute_result"
    }
   ],
   "source": [
    "Productcode"
   ]
  },
  {
   "cell_type": "code",
   "execution_count": 54,
   "id": "a919495e",
   "metadata": {},
   "outputs": [],
   "source": [
    "for i in apparel_url:\n",
    "    driver.get(i)\n",
    "    time.sleep(5)  # Ensure page is fully loaded\n",
    "\n",
    "    try:\n",
    "        # Wait for dropdown button to be clickable\n",
    "        dropdown_button = WebDriverWait(driver, 10).until(EC.element_to_be_clickable((By.XPATH,\"/html/body/div[2]/div/div[1]/div[1]/div/div/div[4]/div[1]/div[3]/section[2]/div/div/button/div[2]/span\")))\n",
    "        dropdown_button.click()\n",
    "\n",
    "        # Wait for the product code element\n",
    "        productcode_tag = WebDriverWait(driver, 20).until(EC.presence_of_element_located((By.XPATH,'//*[contains(@class, \"gl-list\")][2]')))\n",
    "\n",
    "        # Extract and process the text\n",
    "        text = productcode_tag.text\n",
    "        # Split the text by '\\n' to get individual lines\n",
    "        lines = text.split('\\n')\n",
    "        # Get the last line\n",
    "        last_line = lines[-1]\n",
    "        # Get the text after the last ':'\n",
    "        last_colon_text = last_line.split(':')[-1].strip()\n",
    "        \n",
    "        # Append processed text to list\n",
    "        Productcode.append(last_colon_text)\n",
    "    except NoSuchElementException:\n",
    "        Productcode.append(None)\n"
   ]
  },
  {
   "cell_type": "code",
   "execution_count": 55,
   "id": "ee865ff0",
   "metadata": {},
   "outputs": [
    {
     "data": {
      "text/plain": [
       "['3 stripes on the shoulder\\nAEROREADY\\nColour: Bright Blue\\nProduct code: JI6696',\n",
       " 'Droptail hem\\nReal Madrid embroidered crest\\n\"¡Hala Madrid!\" on back collar\\nColour: White\\nProduct code: HR3796',\n",
       " 'Side seam pockets with perforated four-way stretch lining\\nSueded black bar label on centre front\\nColour: Clay\\nProduct code: IS8704',\n",
       " 'JI6696',\n",
       " 'HR3796',\n",
       " 'IS8704']"
      ]
     },
     "execution_count": 55,
     "metadata": {},
     "output_type": "execute_result"
    }
   ],
   "source": [
    "Productcode"
   ]
  },
  {
   "cell_type": "code",
   "execution_count": 56,
   "id": "4bd27bfe",
   "metadata": {},
   "outputs": [],
   "source": [
    "color=[]\n",
    "for i in apparel_url:\n",
    "    driver.get(i)\n",
    "    time.sleep(5)  # Ensure page is fully loaded\n",
    "\n",
    "    try:\n",
    "        # Wait for dropdown button to be clickable\n",
    "        dropdown_button = WebDriverWait(driver, 10).until(EC.element_to_be_clickable((By.XPATH,\"/html/body/div[2]/div/div[1]/div[1]/div/div/div[4]/div[1]/div[3]/section[2]/div/div/button/div[2]/span\")))\n",
    "        dropdown_button.click()\n",
    "\n",
    "        # Wait for the product code element\n",
    "        color_tag = WebDriverWait(driver, 20).until(EC.presence_of_element_located((By.XPATH,'//*[contains(@class, \"gl-list\")][2]')))\n",
    "\n",
    "        # Extract and process the text\n",
    "        text = color_tag.text\n",
    "        # Split the text by '\\n' to get individual lines\n",
    "        lines = text.split('\\n')\n",
    "        # Get the last line\n",
    "        last_line = lines[-2]\n",
    "        # Get the text after the last ':'\n",
    "        last_colon_text = last_line.split(':')[-1].strip()\n",
    "        \n",
    "        # Append processed text to list\n",
    "        color.append(last_colon_text)\n",
    "    except NoSuchElementException:\n",
    "        color.append(None)"
   ]
  },
  {
   "cell_type": "code",
   "execution_count": 57,
   "id": "5a32510f",
   "metadata": {},
   "outputs": [
    {
     "data": {
      "text/plain": [
       "['Bright Blue', 'White', 'Clay']"
      ]
     },
     "execution_count": 57,
     "metadata": {},
     "output_type": "execute_result"
    }
   ],
   "source": [
    "color"
   ]
  },
  {
   "cell_type": "code",
   "execution_count": 58,
   "id": "f996acfc",
   "metadata": {},
   "outputs": [],
   "source": [
    "for i in apparel_url:\n",
    "    driver.get(i)\n",
    "    time.sleep(5)  # Ensure page is fully loaded\n",
    "\n",
    "    try:\n",
    "        # Wait for dropdown button to be clickable\n",
    "        dropdown_button = WebDriverWait(driver, 10).until(EC.visibility_of_element_located((By.XPATH,\"/html/body/div[2]/div/div[1]/div[1]/div/div/div[4]/div[2]/div[2]/section/div[5]/div[4]/div/div[2]/div/a\")))\n",
    "        \n",
    "\n",
    "       \n",
    "        #return_tag = WebDriverWait(driver, 20).until(EC.presence_of_element_located((By.XPATH,'//*[contains(@class, \"gl-list\")][2]')))\n",
    "\n",
    "        # Append text to list\n",
    "        returntime.append(dropdown_button.text)  \n",
    "    except NoSuchElementException:\n",
    "        returntime.append(None)"
   ]
  },
  {
   "cell_type": "code",
   "execution_count": 101,
   "id": "38f2bcd1",
   "metadata": {},
   "outputs": [
    {
     "data": {
      "text/plain": [
       "['Secure transactions with hassle free 14 days Exchange and Returns',\n",
       " 'Secure transactions with hassle free 14 days Exchange and Returns',\n",
       " 'Secure transactions with hassle free 14 days Exchange and Returns']"
      ]
     },
     "execution_count": 101,
     "metadata": {},
     "output_type": "execute_result"
    }
   ],
   "source": [
    "returntime"
   ]
  },
  {
   "cell_type": "code",
   "execution_count": 61,
   "id": "edef07ff",
   "metadata": {},
   "outputs": [
    {
     "name": "stdout",
     "output_type": "stream",
     "text": [
      "['14', '14', '14']\n"
     ]
    }
   ],
   "source": [
    "returntime_days = [item.split(' ')[-5] for item in returntime]\n",
    "\n",
    "# Print cleaned list\n",
    "print(returntime_days)\n"
   ]
  },
  {
   "cell_type": "code",
   "execution_count": 62,
   "id": "eca95648",
   "metadata": {},
   "outputs": [],
   "source": [
    "for i in apparel_url:  # iterating each and every url to fetch full job details\n",
    "    driver.get(i)\n",
    "    time.sleep(5)\n",
    "    try:\n",
    "        # Corrected CSS selector and used proper quotes around attribute value\n",
    "        category_tags = driver.find_element(By.XPATH, '/html/body/div[2]/div/div[1]/div[1]/div/div/div[4]/div[2]/div[2]/div[1]/div[1]/div/span')\n",
    "        Category.append(category_tags.text)  # Append the extracted text to the color1 list\n",
    "    except NoSuchElementException:\n",
    "        Category.append(None)"
   ]
  },
  {
   "cell_type": "code",
   "execution_count": 63,
   "id": "5333aa13",
   "metadata": {},
   "outputs": [
    {
     "name": "stdout",
     "output_type": "stream",
     "text": [
      "['Men • Cricket', 'Men • Football', 'Men • Fear of God Athletics']\n"
     ]
    }
   ],
   "source": [
    "print(Category)"
   ]
  },
  {
   "cell_type": "code",
   "execution_count": 64,
   "id": "553561c3",
   "metadata": {},
   "outputs": [
    {
     "name": "stdout",
     "output_type": "stream",
     "text": [
      "['Men', 'Men', 'Men']\n"
     ]
    }
   ],
   "source": [
    "Category1 = [word for sample in Category for word in sample.split() if word == 'Men' or word == 'Women']\n",
    "print(Category1)"
   ]
  },
  {
   "cell_type": "code",
   "execution_count": 65,
   "id": "505582cf",
   "metadata": {},
   "outputs": [],
   "source": [
    "sizes=[]\n",
    "for i in apparel_url:  # iterating each and every url to fetch full job details\n",
    "    driver.get(i)\n",
    "    time.sleep(5)\n",
    "    try:\n",
    "        # Corrected CSS selector and used proper quotes around attribute value\n",
    "        sizes_tags = driver.find_element(By.XPATH, '/html/body/div[2]/div/div[1]/div[1]/div/div/div[4]/div[2]/div[2]/section/div[1]')\n",
    "        sizes.append(sizes_tags.text)  # Append the extracted text to the color1 list\n",
    "    except NoSuchElementException:\n",
    "        sizes.append(None)"
   ]
  },
  {
   "cell_type": "code",
   "execution_count": 66,
   "id": "a9d777ac",
   "metadata": {},
   "outputs": [
    {
     "data": {
      "text/plain": [
       "['Sizes\\nXS\\nS\\nM\\nL\\nXL\\n2XL\\n3XL',\n",
       " 'Sizes\\nXS\\nS\\nM\\nL\\nXL\\n2XL\\n3XL',\n",
       " 'Sizes\\n2XS\\nXS\\nS\\nM\\nL\\nXL\\n2XL']"
      ]
     },
     "execution_count": 66,
     "metadata": {},
     "output_type": "execute_result"
    }
   ],
   "source": [
    "sizes"
   ]
  },
  {
   "cell_type": "code",
   "execution_count": 67,
   "id": "ed9adbc3",
   "metadata": {},
   "outputs": [
    {
     "name": "stdout",
     "output_type": "stream",
     "text": [
      "[['XS', 'S', 'M', 'L', 'XL', '2XL', '3XL'], ['XS', 'S', 'M', 'L', 'XL', '2XL', '3XL'], ['2XS', 'XS', 'S', 'M', 'L', 'XL', '2XL']]\n"
     ]
    }
   ],
   "source": [
    "separate_lists = []\n",
    "\n",
    "for item in sizes:\n",
    "    # Split the string by '\\n' and discard the first element (which is \"Sizes\")\n",
    "    text_after_sizes = item.split('\\n')[1:]\n",
    "    separate_lists.append(text_after_sizes)\n",
    "\n",
    "print(separate_lists)"
   ]
  },
  {
   "cell_type": "code",
   "execution_count": 68,
   "id": "5df96e59",
   "metadata": {},
   "outputs": [
    {
     "name": "stdout",
     "output_type": "stream",
     "text": [
      "Size 1: ['XS', 'XS', '2XS']\n",
      "Size 2: ['S', 'S', 'XS']\n",
      "Size 3: ['M', 'M', 'S']\n",
      "Size 4: ['L', 'L', 'M']\n"
     ]
    }
   ],
   "source": [
    "size1 = []\n",
    "size2 = []\n",
    "size3 = []\n",
    "size4 = []\n",
    "\n",
    "# Iterate over each sub-list and assign elements to separate lists\n",
    "for sublist in separate_lists:\n",
    "    size1.append(sublist[0])\n",
    "    size2.append(sublist[1])\n",
    "    size3.append(sublist[2])\n",
    "    size4.append(sublist[3])\n",
    "\n",
    "print(\"Size 1:\", size1)\n",
    "print(\"Size 2:\", size2)\n",
    "print(\"Size 3:\", size3)\n",
    "print(\"Size 4:\", size4)"
   ]
  },
  {
   "cell_type": "code",
   "execution_count": 69,
   "id": "62383bf5",
   "metadata": {},
   "outputs": [
    {
     "data": {
      "text/plain": [
       "['XS', 'XS', '2XS']"
      ]
     },
     "execution_count": 69,
     "metadata": {},
     "output_type": "execute_result"
    }
   ],
   "source": [
    "size1"
   ]
  },
  {
   "cell_type": "code",
   "execution_count": 70,
   "id": "f7f349e3",
   "metadata": {},
   "outputs": [
    {
     "data": {
      "text/plain": [
       "['S', 'S', 'XS']"
      ]
     },
     "execution_count": 70,
     "metadata": {},
     "output_type": "execute_result"
    }
   ],
   "source": [
    "size2"
   ]
  },
  {
   "cell_type": "code",
   "execution_count": 71,
   "id": "3825db79",
   "metadata": {},
   "outputs": [],
   "source": [
    "ProductName=[]\n",
    "for i in apparel_url:  # iterating each and every url to fetch full job details\n",
    "    driver.get(i)\n",
    "    time.sleep(5)\n",
    "    try:\n",
    "        # Corrected CSS selector and used proper quotes around attribute value\n",
    "        productname_tags = driver.find_element(By.XPATH, '/html/body/div[2]/div/div[1]/div[1]/div/div/div[4]/div[2]/div[2]/div[1]/h1')\n",
    "        ProductName.append(productname_tags.text)  # Append the extracted text to the color1 list\n",
    "    except NoSuchElementException:\n",
    "        ProductName.append(None)"
   ]
  },
  {
   "cell_type": "code",
   "execution_count": 72,
   "id": "27e82aba",
   "metadata": {},
   "outputs": [
    {
     "data": {
      "text/plain": [
       "['INDIA CRICKET ODI FAN JERSEY',\n",
       " 'REAL MADRID 23/24 HOME JERSEY',\n",
       " 'FEAR OF GOD ATHLETICS SUEDE FLEECE SHORTS']"
      ]
     },
     "execution_count": 72,
     "metadata": {},
     "output_type": "execute_result"
    }
   ],
   "source": [
    "ProductName"
   ]
  },
  {
   "cell_type": "code",
   "execution_count": 73,
   "id": "5a9c9997",
   "metadata": {},
   "outputs": [],
   "source": [
    "Colors=[]\n",
    "for i in apparel_url:  # iterating each and every url to fetch full job details\n",
    "    driver.get(i)\n",
    "    time.sleep(5)\n",
    "    try:\n",
    "        # Corrected CSS selector and used proper quotes around attribute value\n",
    "        colors_tags = driver.find_element(By.XPATH, '/html/body/div[2]/div/div[1]/div[1]/div/div/div[4]/div[2]/div[2]/div[2]')\n",
    "        Colors.append(colors_tags.text)  # Append the extracted text to the color1 list\n",
    "    except NoSuchElementException:\n",
    "        Colors.append(None)"
   ]
  },
  {
   "cell_type": "code",
   "execution_count": 74,
   "id": "35c61ead",
   "metadata": {},
   "outputs": [
    {
     "data": {
      "text/plain": [
       "['Bright Blue', 'White', 'Colours\\nClay']"
      ]
     },
     "execution_count": 74,
     "metadata": {},
     "output_type": "execute_result"
    }
   ],
   "source": [
    "Colors"
   ]
  },
  {
   "cell_type": "code",
   "execution_count": 75,
   "id": "00e3a6bb",
   "metadata": {},
   "outputs": [],
   "source": [
    "occasion=[]\n",
    "for i in apparel_url:  # iterating each and every url to fetch full job details\n",
    "    driver.get(i)\n",
    "    time.sleep(5)\n",
    "    try:\n",
    "        # Corrected CSS selector and used proper quotes around attribute value\n",
    "        occasion_tags = driver.find_element(By.XPATH, '/html/body/div[2]/div/div[1]/div[1]/div/div/div[4]/div[2]/div[2]/div[1]/div[1]/div/span')\n",
    "        occasion.append(occasion_tags.text)  # Append the extracted text to the color1 list\n",
    "    except NoSuchElementException:\n",
    "        occasion.append(None)"
   ]
  },
  {
   "cell_type": "code",
   "execution_count": 76,
   "id": "0ae3bee9",
   "metadata": {},
   "outputs": [
    {
     "data": {
      "text/plain": [
       "['Men • Cricket', 'Men • Football', 'Men • Fear of God Athletics']"
      ]
     },
     "execution_count": 76,
     "metadata": {},
     "output_type": "execute_result"
    }
   ],
   "source": [
    "occasion"
   ]
  },
  {
   "cell_type": "code",
   "execution_count": 77,
   "id": "abf8f309",
   "metadata": {},
   "outputs": [
    {
     "name": "stdout",
     "output_type": "stream",
     "text": [
      "['Cricket', 'Football', 'Fear of God Athletics']\n"
     ]
    }
   ],
   "source": [
    "updated_list = [item.split('•')[1].strip() for item in occasion]\n",
    "print(updated_list)"
   ]
  },
  {
   "cell_type": "code",
   "execution_count": 78,
   "id": "e8beaf45",
   "metadata": {},
   "outputs": [],
   "source": [
    "producttype=[]\n",
    "for i in apparel_url:\n",
    "    driver.get(i)\n",
    "    time.sleep(10)  # Ensure page is fully loaded\n",
    "\n",
    "    try:\n",
    "        # Wait for dropdown button to be clickable\n",
    "        dropdown_button = WebDriverWait(driver, 10).until(EC.element_to_be_clickable((By.XPATH,\"/html/body/div[2]/div/div[1]/div[1]/div/div/div[4]/div[1]/div[3]/section[2]/div/div/button/div[2]/span\")))\n",
    "        dropdown_button.click()\n",
    "\n",
    "        # Wait for \"Country of Origin\" element to be visible\n",
    "        producttype_tags = WebDriverWait(driver, 10).until(EC.visibility_of_element_located((By.XPATH,'//div[@class=\"accordion__content___29x9h\"]/div/div/ul/li[1]')))\n",
    "\n",
    "        # Append text to list\n",
    "        producttype.append(producttype_tags.text)  \n",
    "    except NoSuchElementException:\n",
    "        producttype.append(None)"
   ]
  },
  {
   "cell_type": "code",
   "execution_count": 79,
   "id": "392d14b4",
   "metadata": {},
   "outputs": [
    {
     "data": {
      "text/plain": [
       "['Regular fit', 'Slim fit', 'Relaxed fit in seat and leg']"
      ]
     },
     "execution_count": 79,
     "metadata": {},
     "output_type": "execute_result"
    }
   ],
   "source": [
    "producttype"
   ]
  },
  {
   "cell_type": "code",
   "execution_count": 164,
   "id": "dcfb7aaf",
   "metadata": {},
   "outputs": [
    {
     "name": "stdout",
     "output_type": "stream",
     "text": [
      "['bottomwear CRICKET ODI FAN topwear', 'REAL MADRID 23/24 HOME topwear', 'bottomwear CRICKET TRI COLOR topwear WITH 2 STARS MEN']\n"
     ]
    }
   ],
   "source": [
    "Original list\n",
    "original_list = ['INDIA CRICKET ODI FAN JERSEY',\n",
    "                 #'REAL MADRID 23/24 HOME JERSEY',\n",
    "                 #'INDIA CRICKET TRI COLOR JERSEY WITH 2 STARS MEN']\n",
    "\n",
    "# Replace \"JERSEY\" with \"topwear\" and \"INDIA\" with \"bottomwear\"\n",
    "updated_list = []\n",
    "for item in original_list:\n",
    "    if 'JERSEY' in item:\n",
    "        item = item.replace('JERSEY', 'topwear')\n",
    "    if 'INDIA' in item:\n",
    "        item = item.replace('INDIA', 'bottomwear')\n",
    "    updated_list.append(item)\n",
    "\n",
    "print(updated_list)\n"
   ]
  },
  {
   "cell_type": "code",
   "execution_count": 80,
   "id": "8ee01dd4",
   "metadata": {},
   "outputs": [
    {
     "name": "stdout",
     "output_type": "stream",
     "text": [
      "['bottomwear', 'topwear', 'bottomwear']\n"
     ]
    }
   ],
   "source": [
    "original_list = ['bottomwear CRICKET ODI FAN topwear',\n",
    "                 'REAL MADRID 23/24 HOME topwear',\n",
    "                 'bottomwear CRICKET TRI COLOR topwear WITH 2 STARS MEN']\n",
    "\n",
    "# Replace elements with \"topwear\" or \"bottomwear\" based on presence of keywords\n",
    "updated_list = []\n",
    "for item in original_list:\n",
    "    if 'CRICKET' in item or 'FOOTBALL' in item:  # Check for sports keywords\n",
    "        updated_list.append('bottomwear')\n",
    "    else:\n",
    "        updated_list.append('topwear')\n",
    "\n",
    "print(updated_list)"
   ]
  },
  {
   "cell_type": "code",
   "execution_count": 17,
   "id": "49a9b033",
   "metadata": {},
   "outputs": [
    {
     "name": "stdout",
     "output_type": "stream",
     "text": [
      "['topwear', 'topwear', 'bottomwear']\n"
     ]
    }
   ],
   "source": [
    "ProductName = ['INDIA CRICKET ODI FAN JERSEY',\n",
    " 'REAL MADRID 23/24 HOME JERSEY',\n",
    " 'FEAR OF GOD ATHLETICS SUEDE FLEECE SHORTS']\n",
    "\n",
    "# Replace elements with \"topwear\" or \"bottomwear\" based on presence of keywords\n",
    "Weartype = []\n",
    "for item in ProductName:\n",
    "    if 'JERSEY' in item:  # Check for sports keywords\n",
    "        Weartype.append('topwear')\n",
    "    else:\n",
    "        Weartype.append('bottomwear')\n",
    "\n",
    "print(Weartype)"
   ]
  },
  {
   "cell_type": "markdown",
   "id": "543cde9b",
   "metadata": {},
   "source": [
    "# fgfg"
   ]
  },
  {
   "cell_type": "code",
   "execution_count": null,
   "id": "503846b0",
   "metadata": {},
   "outputs": [],
   "source": []
  }
 ],
 "metadata": {
  "kernelspec": {
   "display_name": "Python 3 (ipykernel)",
   "language": "python",
   "name": "python3"
  },
  "language_info": {
   "codemirror_mode": {
    "name": "ipython",
    "version": 3
   },
   "file_extension": ".py",
   "mimetype": "text/x-python",
   "name": "python",
   "nbconvert_exporter": "python",
   "pygments_lexer": "ipython3",
   "version": "3.9.13"
  }
 },
 "nbformat": 4,
 "nbformat_minor": 5
}
